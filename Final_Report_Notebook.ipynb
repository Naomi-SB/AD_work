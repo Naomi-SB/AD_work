{
 "cells": [
  {
   "cell_type": "code",
   "execution_count": 1,
   "id": "d203ece7",
   "metadata": {},
   "outputs": [],
   "source": [
    "import warnings\n",
    "warnings.filterwarnings(\"ignore\")\n",
    "\n",
    "import matplotlib.pyplot as plt\n",
    "import seaborn as sns\n",
    "\n",
    "import numpy as np\n",
    "import pandas as pd\n",
    "import env\n",
    "\n",
    "import Naomi_wrangle as w"
   ]
  },
  {
   "cell_type": "markdown",
   "id": "c0155ff9",
   "metadata": {},
   "source": [
    "## Questions Answered:\n",
    "  - 1. Which lesson appears to attract the most traffic consistently across cohorts (per program)?\n",
    "  - 2. Which lessons are least accessed?\n",
    "  - 3.  At some point in 2019, the ability for students and alumni to access both curriculums (web dev to ds, ds to web dev) should have been shut off. Do you see any evidence of that happening? Did it happen before?\n",
    "  - 4. Is there any suspicious activity, such as users/machines/etc accessing the curriculum who shouldn’t be? Does it appear that any web-scraping is happening? Are there any suspicious IP addresses?\n",
    "  - 5. Is there a cohort that referred to a lesson significantly more than other cohorts seemed to gloss over?"
   ]
  },
  {
   "cell_type": "markdown",
   "id": "63228cab",
   "metadata": {},
   "source": [
    "\n",
    "## Executive Summary:\n",
    "<div class=\"alert alert-block alert-warning\">\n",
    "\n",
    "* **Question One; Lessons most trafficked**: \n",
    "    * Data Science - classification \n",
    "    * Full Stack Front End - HTML-CSS\n",
    "    * Full Stack Java - javascript-i\n",
    "    * Full Stack PHP - index.html\n",
    "\n",
    "* **Question Two; Lessons least trafficked**:\n",
    "    * Data Science Program - NLP\n",
    "    * Full Stack Front End - All except HTML-CSS\n",
    "    * Full Stack Java - Professional Development\n",
    "    * Full Stack PHP - HTML-CSS\n",
    "\n",
    "* **Question Three; Cross curriculum access in 2019**:\n",
    "    * The year began with access being restricted, but begining in August restriciton was lifted and students could access pages cross-curriculum\n",
    "    \n",
    "* **Question Four; Suspicious Activity**:\n",
    "    * Data revealed 485 suspicious users and 456 suspicious ip addresses\n",
    "    \n",
    "* **Question Five; Focus Lesson**:\n",
    "    * Darden, from the DS program accessed a lesson significantly more than other cohorts\n",
    "    * Voyageurs, from WD program accessed a lesson significantly more than other cohorts\n",
    "    \n",
    "</div>"
   ]
  },
  {
   "cell_type": "markdown",
   "id": "6330676e",
   "metadata": {},
   "source": [
    "# Acquire Data"
   ]
  },
  {
   "cell_type": "code",
   "execution_count": 2,
   "id": "108fd0d1",
   "metadata": {},
   "outputs": [
    {
     "data": {
      "text/html": [
       "<div>\n",
       "<style scoped>\n",
       "    .dataframe tbody tr th:only-of-type {\n",
       "        vertical-align: middle;\n",
       "    }\n",
       "\n",
       "    .dataframe tbody tr th {\n",
       "        vertical-align: top;\n",
       "    }\n",
       "\n",
       "    .dataframe thead th {\n",
       "        text-align: right;\n",
       "    }\n",
       "</style>\n",
       "<table border=\"1\" class=\"dataframe\">\n",
       "  <thead>\n",
       "    <tr style=\"text-align: right;\">\n",
       "      <th></th>\n",
       "      <th>date</th>\n",
       "      <th>time</th>\n",
       "      <th>user_id</th>\n",
       "      <th>cohort_id</th>\n",
       "      <th>ip</th>\n",
       "      <th>id</th>\n",
       "      <th>name</th>\n",
       "      <th>slack</th>\n",
       "      <th>start_date</th>\n",
       "      <th>end_date</th>\n",
       "      <th>created_at</th>\n",
       "      <th>updated_at</th>\n",
       "      <th>program_name</th>\n",
       "      <th>end_page</th>\n",
       "    </tr>\n",
       "    <tr>\n",
       "      <th>date</th>\n",
       "      <th></th>\n",
       "      <th></th>\n",
       "      <th></th>\n",
       "      <th></th>\n",
       "      <th></th>\n",
       "      <th></th>\n",
       "      <th></th>\n",
       "      <th></th>\n",
       "      <th></th>\n",
       "      <th></th>\n",
       "      <th></th>\n",
       "      <th></th>\n",
       "      <th></th>\n",
       "      <th></th>\n",
       "    </tr>\n",
       "  </thead>\n",
       "  <tbody>\n",
       "    <tr>\n",
       "      <th>2018-01-26</th>\n",
       "      <td>2018-01-26</td>\n",
       "      <td>09:55:03</td>\n",
       "      <td>1</td>\n",
       "      <td>8.0</td>\n",
       "      <td>97.105.19.61</td>\n",
       "      <td>8.0</td>\n",
       "      <td>Hampton</td>\n",
       "      <td>#hampton</td>\n",
       "      <td>2015-09-22 00:00:00</td>\n",
       "      <td>2016-02-06 00:00:00</td>\n",
       "      <td>2016-06-14 19:52:26</td>\n",
       "      <td>2016-06-14 19:52:26</td>\n",
       "      <td>full_stack_php</td>\n",
       "      <td>/</td>\n",
       "    </tr>\n",
       "    <tr>\n",
       "      <th>2018-01-26</th>\n",
       "      <td>2018-01-26</td>\n",
       "      <td>09:56:02</td>\n",
       "      <td>1</td>\n",
       "      <td>8.0</td>\n",
       "      <td>97.105.19.61</td>\n",
       "      <td>8.0</td>\n",
       "      <td>Hampton</td>\n",
       "      <td>#hampton</td>\n",
       "      <td>2015-09-22 00:00:00</td>\n",
       "      <td>2016-02-06 00:00:00</td>\n",
       "      <td>2016-06-14 19:52:26</td>\n",
       "      <td>2016-06-14 19:52:26</td>\n",
       "      <td>full_stack_php</td>\n",
       "      <td>java-ii</td>\n",
       "    </tr>\n",
       "    <tr>\n",
       "      <th>2018-01-26</th>\n",
       "      <td>2018-01-26</td>\n",
       "      <td>09:56:05</td>\n",
       "      <td>1</td>\n",
       "      <td>8.0</td>\n",
       "      <td>97.105.19.61</td>\n",
       "      <td>8.0</td>\n",
       "      <td>Hampton</td>\n",
       "      <td>#hampton</td>\n",
       "      <td>2015-09-22 00:00:00</td>\n",
       "      <td>2016-02-06 00:00:00</td>\n",
       "      <td>2016-06-14 19:52:26</td>\n",
       "      <td>2016-06-14 19:52:26</td>\n",
       "      <td>full_stack_php</td>\n",
       "      <td>java-ii/object-oriented-programming</td>\n",
       "    </tr>\n",
       "  </tbody>\n",
       "</table>\n",
       "</div>"
      ],
      "text/plain": [
       "                 date      time  user_id cohort_id            ip   id  \\\n",
       "date                                                                    \n",
       "2018-01-26 2018-01-26  09:55:03        1       8.0  97.105.19.61  8.0   \n",
       "2018-01-26 2018-01-26  09:56:02        1       8.0  97.105.19.61  8.0   \n",
       "2018-01-26 2018-01-26  09:56:05        1       8.0  97.105.19.61  8.0   \n",
       "\n",
       "               name     slack           start_date             end_date  \\\n",
       "date                                                                      \n",
       "2018-01-26  Hampton  #hampton  2015-09-22 00:00:00  2016-02-06 00:00:00   \n",
       "2018-01-26  Hampton  #hampton  2015-09-22 00:00:00  2016-02-06 00:00:00   \n",
       "2018-01-26  Hampton  #hampton  2015-09-22 00:00:00  2016-02-06 00:00:00   \n",
       "\n",
       "                     created_at           updated_at    program_name  \\\n",
       "date                                                                   \n",
       "2018-01-26  2016-06-14 19:52:26  2016-06-14 19:52:26  full_stack_php   \n",
       "2018-01-26  2016-06-14 19:52:26  2016-06-14 19:52:26  full_stack_php   \n",
       "2018-01-26  2016-06-14 19:52:26  2016-06-14 19:52:26  full_stack_php   \n",
       "\n",
       "                                       end_page  \n",
       "date                                             \n",
       "2018-01-26                                    /  \n",
       "2018-01-26                              java-ii  \n",
       "2018-01-26  java-ii/object-oriented-programming  "
      ]
     },
     "execution_count": 2,
     "metadata": {},
     "output_type": "execute_result"
    }
   ],
   "source": [
    "# acquire data from SQL and save to dataframe\n",
    "df = w.wrangle_curriculum_data()\n",
    "df.head(3)"
   ]
  },
  {
   "cell_type": "code",
   "execution_count": 3,
   "id": "d325c0d0",
   "metadata": {},
   "outputs": [
    {
     "name": "stdout",
     "output_type": "stream",
     "text": [
      "<class 'pandas.core.frame.DataFrame'>\n",
      "DatetimeIndex: 816192 entries, 2018-01-26 to 2021-04-21\n",
      "Data columns (total 14 columns):\n",
      " #   Column        Non-Null Count   Dtype         \n",
      "---  ------        --------------   -----         \n",
      " 0   date          816192 non-null  datetime64[ns]\n",
      " 1   time          816192 non-null  object        \n",
      " 2   user_id       816192 non-null  int64         \n",
      " 3   cohort_id     816192 non-null  object        \n",
      " 4   ip            816192 non-null  object        \n",
      " 5   id            816192 non-null  object        \n",
      " 6   name          816192 non-null  object        \n",
      " 7   slack         816192 non-null  object        \n",
      " 8   start_date    816192 non-null  object        \n",
      " 9   end_date      816192 non-null  object        \n",
      " 10  created_at    816192 non-null  object        \n",
      " 11  updated_at    816192 non-null  object        \n",
      " 12  program_name  816192 non-null  object        \n",
      " 13  end_page      816192 non-null  object        \n",
      "dtypes: datetime64[ns](1), int64(1), object(12)\n",
      "memory usage: 93.4+ MB\n"
     ]
    }
   ],
   "source": [
    "df.info()"
   ]
  },
  {
   "cell_type": "markdown",
   "id": "1c1236d2",
   "metadata": {},
   "source": [
    "# Question 1: Which lesson appears to attract the most traffic consistently across cohorts (per program)?"
   ]
  },
  {
   "cell_type": "markdown",
   "id": "fdaaceeb",
   "metadata": {},
   "source": [
    "#### Plan to Answer: \n",
    "- Create dataframes of students grouped by program\n",
    "- Use `value_counts` and `nlargest` methods over the `end_page` column to determine which has the highest number of \"hits\"\n"
   ]
  },
  {
   "cell_type": "code",
   "execution_count": 4,
   "id": "195e8bf4",
   "metadata": {},
   "outputs": [
    {
     "data": {
      "text/plain": [
       "/                           8358\n",
       "search/search_index.json    2203\n",
       "classification/overview     1785\n",
       "Name: end_page, dtype: int64"
      ]
     },
     "execution_count": 4,
     "metadata": {},
     "output_type": "execute_result"
    }
   ],
   "source": [
    "# For Data Science:\n",
    "ds_cohorts = df.loc[df[\"program_name\"] == \"data_science\"]\n",
    "ds_cohorts.end_page.value_counts().nlargest(3)"
   ]
  },
  {
   "cell_type": "code",
   "execution_count": 5,
   "id": "6c4887bc",
   "metadata": {},
   "outputs": [
    {
     "data": {
      "text/plain": [
       "/               1681\n",
       "index.html      1011\n",
       "javascript-i     736\n",
       "Name: end_page, dtype: int64"
      ]
     },
     "execution_count": 5,
     "metadata": {},
     "output_type": "execute_result"
    }
   ],
   "source": [
    "# For Full-Stack PHP\n",
    "full_stack_php_cohorts = df.loc[df[\"program_name\"] == \"full_stack_php\"]\n",
    "full_stack_php_cohorts.end_page.value_counts().nlargest(3)"
   ]
  },
  {
   "cell_type": "code",
   "execution_count": 6,
   "id": "0673e23e",
   "metadata": {},
   "outputs": [
    {
     "data": {
      "text/plain": [
       "/               29474\n",
       "toc             16517\n",
       "javascript-i    15640\n",
       "Name: end_page, dtype: int64"
      ]
     },
     "execution_count": 6,
     "metadata": {},
     "output_type": "execute_result"
    }
   ],
   "source": [
    "# For Full-Stack Java\n",
    "full_stack_java_cohorts = df.loc[df[\"program_name\"] == \"full_stack_java\"]\n",
    "full_stack_java_cohorts.end_page.value_counts().nlargest(3)"
   ]
  },
  {
   "cell_type": "code",
   "execution_count": 7,
   "id": "3ac1c388",
   "metadata": {},
   "outputs": [
    {
     "data": {
      "text/plain": [
       "content/html-css                               2\n",
       "/                                              1\n",
       "content/html-css/gitbook/images/favicon.ico    1\n",
       "Name: end_page, dtype: int64"
      ]
     },
     "execution_count": 7,
     "metadata": {},
     "output_type": "execute_result"
    }
   ],
   "source": [
    "# For Front End\n",
    "front_end_cohorts = df.loc[df[\"program_name\"] == \"front_end\"]\n",
    "front_end_cohorts.end_page.value_counts().nlargest(3)"
   ]
  },
  {
   "cell_type": "markdown",
   "id": "35226a4e",
   "metadata": {},
   "source": [
    "<div class=\"alert alert-block alert-success\">\n",
    "\n",
    "**Answer**\n",
    "\n",
    "|Program| Most Trafficked|\n",
    "|:-------|:---------------|\n",
    "|**Data Science**| Classification Overview|\n",
    "|**Full Stack PHP** | Java Script-i|\n",
    "|**Full Stack Java** | Java Script-i|\n",
    "|**Front End** | HTML-css|\n",
    "</div>"
   ]
  },
  {
   "cell_type": "markdown",
   "id": "6da25040",
   "metadata": {},
   "source": [
    "# Question 2: Which lessons are least accessed?"
   ]
  },
  {
   "cell_type": "markdown",
   "id": "247403de",
   "metadata": {},
   "source": [
    "#### Plan to Answer: \n",
    "- Use previous question's dataframes of students grouped by program\n",
    "- Use `value_counts` and `nsmallest` methods over the `end_page` column to determine which has the lowest number of \"hits\"\n"
   ]
  },
  {
   "cell_type": "code",
   "execution_count": 8,
   "id": "d93ff7b5",
   "metadata": {},
   "outputs": [
    {
     "data": {
      "text/plain": [
       "nlp                                             1\n",
       "regression/feature_engineering_into_modeling    1\n",
       "json-responses                                  1\n",
       "2.1-spreadsheets-overview                       1\n",
       "introduction-to-python                          1\n",
       "                                               ..\n",
       "imports                                         1\n",
       "java-i/console-io                               1\n",
       "appendix/univariate_regression_in_excel         1\n",
       "6-regression/8-Project                          1\n",
       "timeseries/E2E_example                          2\n",
       "Name: end_page, Length: 105, dtype: int64"
      ]
     },
     "execution_count": 8,
     "metadata": {},
     "output_type": "execute_result"
    }
   ],
   "source": [
    "# For Data Science:\n",
    "ds_cohorts.end_page.value_counts().nsmallest(105)\n"
   ]
  },
  {
   "cell_type": "code",
   "execution_count": 9,
   "id": "42ccfa67",
   "metadata": {},
   "outputs": [],
   "source": [
    "# 105 is the first instance of two hits for the page"
   ]
  },
  {
   "cell_type": "code",
   "execution_count": 10,
   "id": "8188c1d6",
   "metadata": {},
   "outputs": [
    {
     "data": {
      "text/plain": [
       "slides/threads                                1\n",
       "2-storytelling/project                        1\n",
       "appendix/data-viz-references                  1\n",
       "4-python/6-imports                            1\n",
       "4-python/project                              1\n",
       "                                             ..\n",
       "content/primitive-types.html                  2\n",
       "login                                         3\n",
       "content/examples/git                          3\n",
       "content/examples/php/if_else.php              3\n",
       "content/mysql/basic-statements/delete.html    3\n",
       "Name: end_page, Length: 210, dtype: int64"
      ]
     },
     "execution_count": 10,
     "metadata": {},
     "output_type": "execute_result"
    }
   ],
   "source": [
    "# For Full-Stack PHP\n",
    "full_stack_php_cohorts.end_page.value_counts().nsmallest(210)\n"
   ]
  },
  {
   "cell_type": "code",
   "execution_count": 11,
   "id": "81876bdf",
   "metadata": {},
   "outputs": [],
   "source": [
    "# 206 is the first instance of two hits for the page"
   ]
  },
  {
   "cell_type": "code",
   "execution_count": 12,
   "id": "d9027f37",
   "metadata": {
    "scrolled": true
   },
   "outputs": [
    {
     "data": {
      "text/plain": [
       "professional-development/professional-resume    1\n",
       "javascript-i/intruduction/operators             1\n",
       "mini_exercises                                  1\n",
       "teams                                           1\n",
       "sgithubtudents/1215                             1\n",
       "Name: end_page, dtype: int64"
      ]
     },
     "execution_count": 12,
     "metadata": {},
     "output_type": "execute_result"
    }
   ],
   "source": [
    "# For Full-Stack Java\n",
    "full_stack_java_cohorts.end_page.value_counts().nsmallest()\n"
   ]
  },
  {
   "cell_type": "code",
   "execution_count": 13,
   "id": "918dd4c7",
   "metadata": {},
   "outputs": [],
   "source": [
    "# 344 is the first instance of two pages being the lowest value_count which is mapbox_api"
   ]
  },
  {
   "cell_type": "code",
   "execution_count": 14,
   "id": "fcd8b269",
   "metadata": {},
   "outputs": [
    {
     "data": {
      "text/plain": [
       "/                                              1\n",
       "content/html-css/gitbook/images/favicon.ico    1\n",
       "content/html-css/introduction.html             1\n",
       "content/html-css                               2\n",
       "Name: end_page, dtype: int64"
      ]
     },
     "execution_count": 14,
     "metadata": {},
     "output_type": "execute_result"
    }
   ],
   "source": [
    "# For Front End\n",
    "front_end_cohorts.end_page.value_counts().nsmallest()\n"
   ]
  },
  {
   "cell_type": "markdown",
   "id": "6b0d0d9b",
   "metadata": {},
   "source": [
    "<div class=\"alert alert-block alert-success\">\n",
    "\n",
    "**Answer**\n",
    "\n",
    "|Program| Least Trafficked| Number of Pages Before Two Hits is the Lowest Number per Page|\n",
    "|:-------|:---------------|:-----|\n",
    "|**Data Science**| NLP|105 pages|\n",
    "|**Full Stack PHP** | Slides/Threads|206 pages|\n",
    "|**Full Stack Java** |Professional Development/Professional Resume| 344 pages|\n",
    "|**Front End** | all pages except HTM-CSS| 3 pages *(represents 25% of total)*|\n",
    "</div>"
   ]
  },
  {
   "cell_type": "markdown",
   "id": "9e0e9bc0",
   "metadata": {},
   "source": [
    "# Question 3: At some point in 2019, the ability for students and alumni to access both curriculums (web dev to ds, ds to web dev) should have been shut off. Do you see any evidence of that happening? Did it happen before?"
   ]
  },
  {
   "cell_type": "code",
   "execution_count": 15,
   "id": "47283631",
   "metadata": {},
   "outputs": [],
   "source": [
    "# creating dataframes for the programs\n",
    "\n",
    "ds_df = df[(df.program_name == 'data_science')]\n",
    "\n",
    "wd_df = df[(df.program_name == 'full_stack_java')]"
   ]
  },
  {
   "cell_type": "code",
   "execution_count": 16,
   "id": "74ef7045",
   "metadata": {},
   "outputs": [],
   "source": [
    "# zeroing in on 2019\n",
    "yr_2019=df[df.index.year == 2019]"
   ]
  },
  {
   "cell_type": "code",
   "execution_count": 17,
   "id": "d14933ce",
   "metadata": {},
   "outputs": [],
   "source": [
    "# creating data frames for the programs only of the year 2019\n",
    "ds_df_19 = yr_2019[(yr_2019.program_name == 'data_science')]\n",
    "\n",
    "wd_df_19 = yr_2019[(yr_2019.program_name == 'full_stack_java')]"
   ]
  },
  {
   "cell_type": "code",
   "execution_count": 18,
   "id": "967ac2c9",
   "metadata": {},
   "outputs": [
    {
     "data": {
      "text/plain": [
       "(20068, 14)"
      ]
     },
     "execution_count": 18,
     "metadata": {},
     "output_type": "execute_result"
    }
   ],
   "source": [
    "ds_df_19.shape"
   ]
  },
  {
   "cell_type": "code",
   "execution_count": 19,
   "id": "c037d4cf",
   "metadata": {},
   "outputs": [
    {
     "data": {
      "text/plain": [
       "(174035, 14)"
      ]
     },
     "execution_count": 19,
     "metadata": {},
     "output_type": "execute_result"
    }
   ],
   "source": [
    "wd_df_19.shape"
   ]
  },
  {
   "cell_type": "code",
   "execution_count": 20,
   "id": "d307e009",
   "metadata": {},
   "outputs": [
    {
     "name": "stdout",
     "output_type": "stream",
     "text": [
      "79\n"
     ]
    }
   ],
   "source": [
    "# unique pages visited \n",
    "ds_page= list(ds_df_19.end_page.unique())\n",
    "\n",
    "# list of unique pages in web dev\n",
    "web_page= list(wd_df_19.end_page.unique())\n",
    "\n",
    "# create a loop to cross check a page visited by ds students that matches with unique pages from web dev program\n",
    "\n",
    "count= 0\n",
    "for x in web_page:\n",
    "    if x in ds_page:\n",
    "        \n",
    "        count+= 1       \n",
    "print(count)"
   ]
  },
  {
   "cell_type": "code",
   "execution_count": 21,
   "id": "925db1d6",
   "metadata": {},
   "outputs": [
    {
     "data": {
      "text/plain": [
       "298"
      ]
     },
     "execution_count": 21,
     "metadata": {},
     "output_type": "execute_result"
    }
   ],
   "source": [
    "ds_page_df = pd.DataFrame(ds_page)\n",
    "len(ds_page_df.value_counts())\n",
    "\n",
    "# out of 20068 end pages, 298 are unique"
   ]
  },
  {
   "cell_type": "code",
   "execution_count": 22,
   "id": "15ef2441",
   "metadata": {},
   "outputs": [
    {
     "data": {
      "text/plain": [
       "710"
      ]
     },
     "execution_count": 22,
     "metadata": {},
     "output_type": "execute_result"
    }
   ],
   "source": [
    "web_page_df = pd.DataFrame(web_page)\n",
    "len(web_page_df.value_counts())\n",
    "\n",
    "# out of 174,035 end pages, 710 are unique"
   ]
  },
  {
   "cell_type": "code",
   "execution_count": 23,
   "id": "f7555eef",
   "metadata": {},
   "outputs": [],
   "source": [
    "# Focusing on the month of August where there seems to be the lowest dip\n",
    "Aug_2019=yr_2019[yr_2019.index.month == 8]\n",
    "\n",
    "# df for data science of August 2019\n",
    "ds_Aug = Aug_2019[(Aug_2019.program_name == 'data_science')]\n",
    "# df for web development of August 2019\n",
    "wd_Aug = Aug_2019[(Aug_2019.program_name == \"full_stack_java\")]"
   ]
  },
  {
   "cell_type": "code",
   "execution_count": 24,
   "id": "cd3fb475",
   "metadata": {},
   "outputs": [
    {
     "name": "stdout",
     "output_type": "stream",
     "text": [
      "19\n"
     ]
    }
   ],
   "source": [
    "# checking for cross-curriculum page endpoints for August: there are none\n",
    "ds_Aug_page = list(ds_Aug.end_page.unique())\n",
    "\n",
    "web_Aug_page = list(wd_Aug.end_page.unique())\n",
    "\n",
    "count = 0\n",
    "for x in ds_Aug_page:\n",
    "    if x in web_Aug_page:\n",
    "        count += 1\n",
    "        \n",
    "print(count)"
   ]
  },
  {
   "cell_type": "markdown",
   "id": "72a81711",
   "metadata": {},
   "source": [
    "<div class=\"alert alert-block alert-success\">\n",
    "\n",
    "**Answer**\n",
    "\n",
    "|Month| Number of Cross Curriculm Accesses|\n",
    "|:-------|:---------------|\n",
    "|**January**| 0 |\n",
    "|**February** | 0 |\n",
    "|**March** | 0 |\n",
    "|**April** | 0 |\n",
    "|**May**| 0 |\n",
    "|**June** | 0 |\n",
    "|**July** | 0 |\n",
    "|**August** | 19 |\n",
    "|**September**| 38 |\n",
    "|**October** | 25 |\n",
    "|**November** | 26 |\n",
    "|**December** | 37 |\n",
    "\n",
    "**From this we can see that 2019 began with restrictions in place, but was lifted in August**\n",
    "</div>"
   ]
  },
  {
   "cell_type": "markdown",
   "id": "aabc39bd",
   "metadata": {},
   "source": [
    "# Question 4: Is there any suspicious activity, such as users/machines/etc accessing the curriculum who shouldn’t be? Does it appear that any web-scraping is happening? Are there any suspicious IP addresses?"
   ]
  },
  {
   "cell_type": "code",
   "execution_count": 25,
   "id": "a428f658",
   "metadata": {},
   "outputs": [
    {
     "data": {
      "text/html": [
       "<div>\n",
       "<style scoped>\n",
       "    .dataframe tbody tr th:only-of-type {\n",
       "        vertical-align: middle;\n",
       "    }\n",
       "\n",
       "    .dataframe tbody tr th {\n",
       "        vertical-align: top;\n",
       "    }\n",
       "\n",
       "    .dataframe thead th {\n",
       "        text-align: right;\n",
       "    }\n",
       "</style>\n",
       "<table border=\"1\" class=\"dataframe\">\n",
       "  <thead>\n",
       "    <tr style=\"text-align: right;\">\n",
       "      <th></th>\n",
       "      <th>date</th>\n",
       "      <th>time</th>\n",
       "      <th>user_id</th>\n",
       "      <th>cohort_id</th>\n",
       "      <th>ip</th>\n",
       "      <th>id</th>\n",
       "      <th>name</th>\n",
       "      <th>slack</th>\n",
       "      <th>start_date</th>\n",
       "      <th>end_date</th>\n",
       "      <th>created_at</th>\n",
       "      <th>updated_at</th>\n",
       "      <th>program_name</th>\n",
       "      <th>end_page</th>\n",
       "    </tr>\n",
       "    <tr>\n",
       "      <th>date</th>\n",
       "      <th></th>\n",
       "      <th></th>\n",
       "      <th></th>\n",
       "      <th></th>\n",
       "      <th></th>\n",
       "      <th></th>\n",
       "      <th></th>\n",
       "      <th></th>\n",
       "      <th></th>\n",
       "      <th></th>\n",
       "      <th></th>\n",
       "      <th></th>\n",
       "      <th></th>\n",
       "      <th></th>\n",
       "    </tr>\n",
       "  </thead>\n",
       "  <tbody>\n",
       "    <tr>\n",
       "      <th>2018-01-26</th>\n",
       "      <td>2018-01-26</td>\n",
       "      <td>09:55:03</td>\n",
       "      <td>1</td>\n",
       "      <td>8.0</td>\n",
       "      <td>97.105.19.61</td>\n",
       "      <td>8.0</td>\n",
       "      <td>Hampton</td>\n",
       "      <td>#hampton</td>\n",
       "      <td>2015-09-22 00:00:00</td>\n",
       "      <td>2016-02-06 00:00:00</td>\n",
       "      <td>2016-06-14 19:52:26</td>\n",
       "      <td>2016-06-14 19:52:26</td>\n",
       "      <td>full_stack_php</td>\n",
       "      <td>/</td>\n",
       "    </tr>\n",
       "    <tr>\n",
       "      <th>2018-01-26</th>\n",
       "      <td>2018-01-26</td>\n",
       "      <td>09:56:02</td>\n",
       "      <td>1</td>\n",
       "      <td>8.0</td>\n",
       "      <td>97.105.19.61</td>\n",
       "      <td>8.0</td>\n",
       "      <td>Hampton</td>\n",
       "      <td>#hampton</td>\n",
       "      <td>2015-09-22 00:00:00</td>\n",
       "      <td>2016-02-06 00:00:00</td>\n",
       "      <td>2016-06-14 19:52:26</td>\n",
       "      <td>2016-06-14 19:52:26</td>\n",
       "      <td>full_stack_php</td>\n",
       "      <td>java-ii</td>\n",
       "    </tr>\n",
       "    <tr>\n",
       "      <th>2018-01-26</th>\n",
       "      <td>2018-01-26</td>\n",
       "      <td>09:56:05</td>\n",
       "      <td>1</td>\n",
       "      <td>8.0</td>\n",
       "      <td>97.105.19.61</td>\n",
       "      <td>8.0</td>\n",
       "      <td>Hampton</td>\n",
       "      <td>#hampton</td>\n",
       "      <td>2015-09-22 00:00:00</td>\n",
       "      <td>2016-02-06 00:00:00</td>\n",
       "      <td>2016-06-14 19:52:26</td>\n",
       "      <td>2016-06-14 19:52:26</td>\n",
       "      <td>full_stack_php</td>\n",
       "      <td>java-ii/object-oriented-programming</td>\n",
       "    </tr>\n",
       "    <tr>\n",
       "      <th>2018-01-26</th>\n",
       "      <td>2018-01-26</td>\n",
       "      <td>09:56:06</td>\n",
       "      <td>1</td>\n",
       "      <td>8.0</td>\n",
       "      <td>97.105.19.61</td>\n",
       "      <td>8.0</td>\n",
       "      <td>Hampton</td>\n",
       "      <td>#hampton</td>\n",
       "      <td>2015-09-22 00:00:00</td>\n",
       "      <td>2016-02-06 00:00:00</td>\n",
       "      <td>2016-06-14 19:52:26</td>\n",
       "      <td>2016-06-14 19:52:26</td>\n",
       "      <td>full_stack_php</td>\n",
       "      <td>slides/object_oriented_programming</td>\n",
       "    </tr>\n",
       "    <tr>\n",
       "      <th>2018-01-26</th>\n",
       "      <td>2018-01-26</td>\n",
       "      <td>09:56:24</td>\n",
       "      <td>2</td>\n",
       "      <td>22.0</td>\n",
       "      <td>97.105.19.61</td>\n",
       "      <td>22.0</td>\n",
       "      <td>Teddy</td>\n",
       "      <td>#teddy</td>\n",
       "      <td>2018-01-08 00:00:00</td>\n",
       "      <td>2018-05-17 00:00:00</td>\n",
       "      <td>2018-01-08 13:59:10</td>\n",
       "      <td>2018-01-08 13:59:10</td>\n",
       "      <td>full_stack_java</td>\n",
       "      <td>javascript-i/conditionals</td>\n",
       "    </tr>\n",
       "  </tbody>\n",
       "</table>\n",
       "</div>"
      ],
      "text/plain": [
       "                 date      time  user_id cohort_id            ip    id  \\\n",
       "date                                                                     \n",
       "2018-01-26 2018-01-26  09:55:03        1       8.0  97.105.19.61   8.0   \n",
       "2018-01-26 2018-01-26  09:56:02        1       8.0  97.105.19.61   8.0   \n",
       "2018-01-26 2018-01-26  09:56:05        1       8.0  97.105.19.61   8.0   \n",
       "2018-01-26 2018-01-26  09:56:06        1       8.0  97.105.19.61   8.0   \n",
       "2018-01-26 2018-01-26  09:56:24        2      22.0  97.105.19.61  22.0   \n",
       "\n",
       "               name     slack           start_date             end_date  \\\n",
       "date                                                                      \n",
       "2018-01-26  Hampton  #hampton  2015-09-22 00:00:00  2016-02-06 00:00:00   \n",
       "2018-01-26  Hampton  #hampton  2015-09-22 00:00:00  2016-02-06 00:00:00   \n",
       "2018-01-26  Hampton  #hampton  2015-09-22 00:00:00  2016-02-06 00:00:00   \n",
       "2018-01-26  Hampton  #hampton  2015-09-22 00:00:00  2016-02-06 00:00:00   \n",
       "2018-01-26    Teddy    #teddy  2018-01-08 00:00:00  2018-05-17 00:00:00   \n",
       "\n",
       "                     created_at           updated_at     program_name  \\\n",
       "date                                                                    \n",
       "2018-01-26  2016-06-14 19:52:26  2016-06-14 19:52:26   full_stack_php   \n",
       "2018-01-26  2016-06-14 19:52:26  2016-06-14 19:52:26   full_stack_php   \n",
       "2018-01-26  2016-06-14 19:52:26  2016-06-14 19:52:26   full_stack_php   \n",
       "2018-01-26  2016-06-14 19:52:26  2016-06-14 19:52:26   full_stack_php   \n",
       "2018-01-26  2018-01-08 13:59:10  2018-01-08 13:59:10  full_stack_java   \n",
       "\n",
       "                                       end_page  \n",
       "date                                             \n",
       "2018-01-26                                    /  \n",
       "2018-01-26                              java-ii  \n",
       "2018-01-26  java-ii/object-oriented-programming  \n",
       "2018-01-26   slides/object_oriented_programming  \n",
       "2018-01-26            javascript-i/conditionals  "
      ]
     },
     "execution_count": 25,
     "metadata": {},
     "output_type": "execute_result"
    }
   ],
   "source": [
    "df.head()"
   ]
  },
  {
   "cell_type": "code",
   "execution_count": 26,
   "id": "2b91af68",
   "metadata": {},
   "outputs": [
    {
     "data": {
      "text/plain": [
       "97.105.19.58       260986\n",
       "97.105.19.61        61662\n",
       "192.171.117.210      9302\n",
       "67.11.50.23          4181\n",
       "172.124.67.93        3511\n",
       "                    ...  \n",
       "172.58.96.4             1\n",
       "37.60.189.18            1\n",
       "99.203.155.43           1\n",
       "184.226.32.25           1\n",
       "162.251.232.107         1\n",
       "Name: ip, Length: 5284, dtype: int64"
      ]
     },
     "execution_count": 26,
     "metadata": {},
     "output_type": "execute_result"
    }
   ],
   "source": [
    "# how many times to the unique ip addresses show up in the data?\n",
    "df.ip.value_counts()\n",
    "# the top ip address is suspicious because it shows up more than four times more than the runner up"
   ]
  },
  {
   "cell_type": "code",
   "execution_count": 27,
   "id": "7568cba6",
   "metadata": {},
   "outputs": [],
   "source": [
    "# source_ip is the addresses that show up more than once \n",
    "source_ip=df.ip.value_counts()[df.ip.value_counts()>1]\n",
    "source_ip=pd.DataFrame(source_ip)\n",
    "source_ip=list(source_ip.index)"
   ]
  },
  {
   "cell_type": "code",
   "execution_count": 28,
   "id": "72a84f8f",
   "metadata": {},
   "outputs": [
    {
     "data": {
      "text/html": [
       "<div>\n",
       "<style scoped>\n",
       "    .dataframe tbody tr th:only-of-type {\n",
       "        vertical-align: middle;\n",
       "    }\n",
       "\n",
       "    .dataframe tbody tr th {\n",
       "        vertical-align: top;\n",
       "    }\n",
       "\n",
       "    .dataframe thead th {\n",
       "        text-align: right;\n",
       "    }\n",
       "</style>\n",
       "<table border=\"1\" class=\"dataframe\">\n",
       "  <thead>\n",
       "    <tr style=\"text-align: right;\">\n",
       "      <th></th>\n",
       "      <th>user_id</th>\n",
       "      <th>date</th>\n",
       "      <th>time</th>\n",
       "      <th>cohort_id</th>\n",
       "      <th>ip</th>\n",
       "      <th>id</th>\n",
       "      <th>name</th>\n",
       "      <th>slack</th>\n",
       "      <th>start_date</th>\n",
       "      <th>end_date</th>\n",
       "      <th>created_at</th>\n",
       "      <th>updated_at</th>\n",
       "      <th>program_name</th>\n",
       "      <th>end_page</th>\n",
       "      <th>count</th>\n",
       "    </tr>\n",
       "  </thead>\n",
       "  <tbody>\n",
       "    <tr>\n",
       "      <th>3154</th>\n",
       "      <td>3</td>\n",
       "      <td>2018-02-12</td>\n",
       "      <td>16:58:07</td>\n",
       "      <td>22.0</td>\n",
       "      <td>97.105.19.61</td>\n",
       "      <td>22.0</td>\n",
       "      <td>Teddy</td>\n",
       "      <td>#teddy</td>\n",
       "      <td>2018-01-08 00:00:00</td>\n",
       "      <td>2018-05-17 00:00:00</td>\n",
       "      <td>2018-01-08 13:59:10</td>\n",
       "      <td>2018-01-08 13:59:10</td>\n",
       "      <td>full_stack_java</td>\n",
       "      <td>jquery/events/keyboard-events</td>\n",
       "      <td>2</td>\n",
       "    </tr>\n",
       "    <tr>\n",
       "      <th>3155</th>\n",
       "      <td>3</td>\n",
       "      <td>2018-02-12</td>\n",
       "      <td>16:53:10</td>\n",
       "      <td>22.0</td>\n",
       "      <td>97.105.19.61</td>\n",
       "      <td>22.0</td>\n",
       "      <td>Teddy</td>\n",
       "      <td>#teddy</td>\n",
       "      <td>2018-01-08 00:00:00</td>\n",
       "      <td>2018-05-17 00:00:00</td>\n",
       "      <td>2018-01-08 13:59:10</td>\n",
       "      <td>2018-01-08 13:59:10</td>\n",
       "      <td>full_stack_java</td>\n",
       "      <td>jquery/essential-methods/attributes-and-css</td>\n",
       "      <td>2</td>\n",
       "    </tr>\n",
       "    <tr>\n",
       "      <th>4712</th>\n",
       "      <td>4</td>\n",
       "      <td>2018-02-13</td>\n",
       "      <td>14:08:08</td>\n",
       "      <td>22.0</td>\n",
       "      <td>97.105.19.61</td>\n",
       "      <td>22.0</td>\n",
       "      <td>Teddy</td>\n",
       "      <td>#teddy</td>\n",
       "      <td>2018-01-08 00:00:00</td>\n",
       "      <td>2018-05-17 00:00:00</td>\n",
       "      <td>2018-01-08 13:59:10</td>\n",
       "      <td>2018-01-08 13:59:10</td>\n",
       "      <td>full_stack_java</td>\n",
       "      <td>jquery</td>\n",
       "      <td>2</td>\n",
       "    </tr>\n",
       "    <tr>\n",
       "      <th>4713</th>\n",
       "      <td>4</td>\n",
       "      <td>2018-02-06</td>\n",
       "      <td>15:14:01</td>\n",
       "      <td>22.0</td>\n",
       "      <td>97.105.19.61</td>\n",
       "      <td>22.0</td>\n",
       "      <td>Teddy</td>\n",
       "      <td>#teddy</td>\n",
       "      <td>2018-01-08 00:00:00</td>\n",
       "      <td>2018-05-17 00:00:00</td>\n",
       "      <td>2018-01-08 13:59:10</td>\n",
       "      <td>2018-01-08 13:59:10</td>\n",
       "      <td>full_stack_java</td>\n",
       "      <td>html-css</td>\n",
       "      <td>2</td>\n",
       "    </tr>\n",
       "    <tr>\n",
       "      <th>5401</th>\n",
       "      <td>5</td>\n",
       "      <td>2018-03-16</td>\n",
       "      <td>09:48:58</td>\n",
       "      <td>22.0</td>\n",
       "      <td>97.105.19.61</td>\n",
       "      <td>22.0</td>\n",
       "      <td>Teddy</td>\n",
       "      <td>#teddy</td>\n",
       "      <td>2018-01-08 00:00:00</td>\n",
       "      <td>2018-05-17 00:00:00</td>\n",
       "      <td>2018-01-08 13:59:10</td>\n",
       "      <td>2018-01-08 13:59:10</td>\n",
       "      <td>full_stack_java</td>\n",
       "      <td>mysql/users</td>\n",
       "      <td>2</td>\n",
       "    </tr>\n",
       "    <tr>\n",
       "      <th>...</th>\n",
       "      <td>...</td>\n",
       "      <td>...</td>\n",
       "      <td>...</td>\n",
       "      <td>...</td>\n",
       "      <td>...</td>\n",
       "      <td>...</td>\n",
       "      <td>...</td>\n",
       "      <td>...</td>\n",
       "      <td>...</td>\n",
       "      <td>...</td>\n",
       "      <td>...</td>\n",
       "      <td>...</td>\n",
       "      <td>...</td>\n",
       "      <td>...</td>\n",
       "      <td>...</td>\n",
       "    </tr>\n",
       "    <tr>\n",
       "      <th>811177</th>\n",
       "      <td>967</td>\n",
       "      <td>2021-04-14</td>\n",
       "      <td>08:31:35</td>\n",
       "      <td>139.0</td>\n",
       "      <td>130.45.59.45</td>\n",
       "      <td>139.0</td>\n",
       "      <td>Oberon</td>\n",
       "      <td>#oberon</td>\n",
       "      <td>2021-04-12 00:00:00</td>\n",
       "      <td>2021-10-01 00:00:00</td>\n",
       "      <td>2021-04-12 18:07:21</td>\n",
       "      <td>2021-04-12 18:07:21</td>\n",
       "      <td>full_stack_java</td>\n",
       "      <td>appendix/git/intellij-intro</td>\n",
       "      <td>2</td>\n",
       "    </tr>\n",
       "    <tr>\n",
       "      <th>811538</th>\n",
       "      <td>974</td>\n",
       "      <td>2021-04-16</td>\n",
       "      <td>14:03:15</td>\n",
       "      <td>139.0</td>\n",
       "      <td>72.193.254.235</td>\n",
       "      <td>139.0</td>\n",
       "      <td>Oberon</td>\n",
       "      <td>#oberon</td>\n",
       "      <td>2021-04-12 00:00:00</td>\n",
       "      <td>2021-10-01 00:00:00</td>\n",
       "      <td>2021-04-12 18:07:21</td>\n",
       "      <td>2021-04-12 18:07:21</td>\n",
       "      <td>full_stack_java</td>\n",
       "      <td>javascript-i</td>\n",
       "      <td>2</td>\n",
       "    </tr>\n",
       "    <tr>\n",
       "      <th>811856</th>\n",
       "      <td>979</td>\n",
       "      <td>2021-04-15</td>\n",
       "      <td>22:03:52</td>\n",
       "      <td>139.0</td>\n",
       "      <td>107.77.218.33</td>\n",
       "      <td>139.0</td>\n",
       "      <td>Oberon</td>\n",
       "      <td>#oberon</td>\n",
       "      <td>2021-04-12 00:00:00</td>\n",
       "      <td>2021-10-01 00:00:00</td>\n",
       "      <td>2021-04-12 18:07:21</td>\n",
       "      <td>2021-04-12 18:07:21</td>\n",
       "      <td>full_stack_java</td>\n",
       "      <td>javascript-i/javascript-with-html</td>\n",
       "      <td>2</td>\n",
       "    </tr>\n",
       "    <tr>\n",
       "      <th>811857</th>\n",
       "      <td>979</td>\n",
       "      <td>2021-04-15</td>\n",
       "      <td>14:55:04</td>\n",
       "      <td>139.0</td>\n",
       "      <td>107.77.218.33</td>\n",
       "      <td>139.0</td>\n",
       "      <td>Oberon</td>\n",
       "      <td>#oberon</td>\n",
       "      <td>2021-04-12 00:00:00</td>\n",
       "      <td>2021-10-01 00:00:00</td>\n",
       "      <td>2021-04-12 18:07:21</td>\n",
       "      <td>2021-04-12 18:07:21</td>\n",
       "      <td>full_stack_java</td>\n",
       "      <td>javascript-i/introduction</td>\n",
       "      <td>2</td>\n",
       "    </tr>\n",
       "    <tr>\n",
       "      <th>811981</th>\n",
       "      <td>981</td>\n",
       "      <td>2021-04-19</td>\n",
       "      <td>15:41:17</td>\n",
       "      <td>138.0</td>\n",
       "      <td>67.11.98.144</td>\n",
       "      <td>138.0</td>\n",
       "      <td>Neptune</td>\n",
       "      <td>#neptune</td>\n",
       "      <td>2021-03-15 00:00:00</td>\n",
       "      <td>2021-09-03 00:00:00</td>\n",
       "      <td>2021-03-15 19:57:09</td>\n",
       "      <td>2021-03-15 19:57:09</td>\n",
       "      <td>full_stack_java</td>\n",
       "      <td>html-css/css-ii/bootstrap-grid-system</td>\n",
       "      <td>2</td>\n",
       "    </tr>\n",
       "  </tbody>\n",
       "</table>\n",
       "<p>3061 rows × 15 columns</p>\n",
       "</div>"
      ],
      "text/plain": [
       "        user_id       date      time cohort_id              ip     id  \\\n",
       "3154          3 2018-02-12  16:58:07      22.0    97.105.19.61   22.0   \n",
       "3155          3 2018-02-12  16:53:10      22.0    97.105.19.61   22.0   \n",
       "4712          4 2018-02-13  14:08:08      22.0    97.105.19.61   22.0   \n",
       "4713          4 2018-02-06  15:14:01      22.0    97.105.19.61   22.0   \n",
       "5401          5 2018-03-16  09:48:58      22.0    97.105.19.61   22.0   \n",
       "...         ...        ...       ...       ...             ...    ...   \n",
       "811177      967 2021-04-14  08:31:35     139.0    130.45.59.45  139.0   \n",
       "811538      974 2021-04-16  14:03:15     139.0  72.193.254.235  139.0   \n",
       "811856      979 2021-04-15  22:03:52     139.0   107.77.218.33  139.0   \n",
       "811857      979 2021-04-15  14:55:04     139.0   107.77.218.33  139.0   \n",
       "811981      981 2021-04-19  15:41:17     138.0    67.11.98.144  138.0   \n",
       "\n",
       "           name     slack           start_date             end_date  \\\n",
       "3154      Teddy    #teddy  2018-01-08 00:00:00  2018-05-17 00:00:00   \n",
       "3155      Teddy    #teddy  2018-01-08 00:00:00  2018-05-17 00:00:00   \n",
       "4712      Teddy    #teddy  2018-01-08 00:00:00  2018-05-17 00:00:00   \n",
       "4713      Teddy    #teddy  2018-01-08 00:00:00  2018-05-17 00:00:00   \n",
       "5401      Teddy    #teddy  2018-01-08 00:00:00  2018-05-17 00:00:00   \n",
       "...         ...       ...                  ...                  ...   \n",
       "811177   Oberon   #oberon  2021-04-12 00:00:00  2021-10-01 00:00:00   \n",
       "811538   Oberon   #oberon  2021-04-12 00:00:00  2021-10-01 00:00:00   \n",
       "811856   Oberon   #oberon  2021-04-12 00:00:00  2021-10-01 00:00:00   \n",
       "811857   Oberon   #oberon  2021-04-12 00:00:00  2021-10-01 00:00:00   \n",
       "811981  Neptune  #neptune  2021-03-15 00:00:00  2021-09-03 00:00:00   \n",
       "\n",
       "                 created_at           updated_at     program_name  \\\n",
       "3154    2018-01-08 13:59:10  2018-01-08 13:59:10  full_stack_java   \n",
       "3155    2018-01-08 13:59:10  2018-01-08 13:59:10  full_stack_java   \n",
       "4712    2018-01-08 13:59:10  2018-01-08 13:59:10  full_stack_java   \n",
       "4713    2018-01-08 13:59:10  2018-01-08 13:59:10  full_stack_java   \n",
       "5401    2018-01-08 13:59:10  2018-01-08 13:59:10  full_stack_java   \n",
       "...                     ...                  ...              ...   \n",
       "811177  2021-04-12 18:07:21  2021-04-12 18:07:21  full_stack_java   \n",
       "811538  2021-04-12 18:07:21  2021-04-12 18:07:21  full_stack_java   \n",
       "811856  2021-04-12 18:07:21  2021-04-12 18:07:21  full_stack_java   \n",
       "811857  2021-04-12 18:07:21  2021-04-12 18:07:21  full_stack_java   \n",
       "811981  2021-03-15 19:57:09  2021-03-15 19:57:09  full_stack_java   \n",
       "\n",
       "                                           end_page  count  \n",
       "3154                  jquery/events/keyboard-events      2  \n",
       "3155    jquery/essential-methods/attributes-and-css      2  \n",
       "4712                                         jquery      2  \n",
       "4713                                       html-css      2  \n",
       "5401                                    mysql/users      2  \n",
       "...                                             ...    ...  \n",
       "811177                  appendix/git/intellij-intro      2  \n",
       "811538                                 javascript-i      2  \n",
       "811856            javascript-i/javascript-with-html      2  \n",
       "811857                    javascript-i/introduction      2  \n",
       "811981        html-css/css-ii/bootstrap-grid-system      2  \n",
       "\n",
       "[3061 rows x 15 columns]"
      ]
     },
     "execution_count": 28,
     "metadata": {},
     "output_type": "execute_result"
    }
   ],
   "source": [
    "# check 2 reveals ip addresses used more than once by any single user as well as by muliple users\n",
    "check=df[df.ip.isin(source_ip)]\n",
    "check2=check.groupby('user_id',as_index=False).value_counts()\n",
    "check2=check2[check2['count']>1]\n",
    "check2"
   ]
  },
  {
   "cell_type": "code",
   "execution_count": 29,
   "id": "262d51e5",
   "metadata": {},
   "outputs": [
    {
     "data": {
      "text/plain": [
       "(485, 456)"
      ]
     },
     "execution_count": 29,
     "metadata": {},
     "output_type": "execute_result"
    }
   ],
   "source": [
    "len(check2.groupby('user_id').count()),len(check2.groupby('ip').count())\n",
    "# 485 sus users, 456 sus ip addresses"
   ]
  },
  {
   "cell_type": "markdown",
   "id": "6e068678",
   "metadata": {},
   "source": [
    "<div class=\"alert alert-block alert-success\">\n",
    "\n",
    "**Answer**\n",
    "    \n",
    "    *Cross examination of the data shows that there are 485 suspicious users, that is 485 users who use more than one ip address. And there are 456 suspicious ip addresses, that is 485 that are used by more than one user. \n",
    "    \n",
    "If given more time, I would investigate the cross-suspiciousness of the users and addresses. \n",
    "</div>"
   ]
  },
  {
   "cell_type": "markdown",
   "id": "60e3d6bd",
   "metadata": {},
   "source": [
    "# Question 5: Is there a cohort that referred to a lesson significantly more than other cohorts seemed to gloss over?\n",
    "### in this I am looking for anomolous frequency in access"
   ]
  },
  {
   "cell_type": "code",
   "execution_count": 41,
   "id": "a599db31",
   "metadata": {},
   "outputs": [],
   "source": [
    "# plan: using ds data frame and java data frame created for previous questions, I will answer the question for each program"
   ]
  },
  {
   "cell_type": "code",
   "execution_count": 49,
   "id": "9b5fac5c",
   "metadata": {
    "scrolled": true
   },
   "outputs": [
    {
     "data": {
      "text/plain": [
       "683"
      ]
     },
     "execution_count": 49,
     "metadata": {},
     "output_type": "execute_result"
    }
   ],
   "source": [
    "len(ds_df.end_page.value_counts()>100)\n",
    "#683 end point web pages show up in the ds_df more than 100 times"
   ]
  },
  {
   "cell_type": "code",
   "execution_count": 50,
   "id": "7657d149",
   "metadata": {},
   "outputs": [
    {
     "data": {
      "text/plain": [
       "1113"
      ]
     },
     "execution_count": 50,
     "metadata": {},
     "output_type": "execute_result"
    }
   ],
   "source": [
    "len(wd_df.end_page.value_counts()>100)\n",
    "#1113 end point web pages show up in the ds_df more than 100 times"
   ]
  },
  {
   "cell_type": "markdown",
   "id": "a3a85aad",
   "metadata": {},
   "source": [
    "### For Data Science"
   ]
  },
  {
   "cell_type": "code",
   "execution_count": 53,
   "id": "9f8fbbe8",
   "metadata": {},
   "outputs": [
    {
     "data": {
      "text/html": [
       "<div>\n",
       "<style scoped>\n",
       "    .dataframe tbody tr th:only-of-type {\n",
       "        vertical-align: middle;\n",
       "    }\n",
       "\n",
       "    .dataframe tbody tr th {\n",
       "        vertical-align: top;\n",
       "    }\n",
       "\n",
       "    .dataframe thead th {\n",
       "        text-align: right;\n",
       "    }\n",
       "</style>\n",
       "<table border=\"1\" class=\"dataframe\">\n",
       "  <thead>\n",
       "    <tr style=\"text-align: right;\">\n",
       "      <th></th>\n",
       "      <th></th>\n",
       "      <th>user_id</th>\n",
       "    </tr>\n",
       "    <tr>\n",
       "      <th>name</th>\n",
       "      <th>end_page</th>\n",
       "      <th></th>\n",
       "    </tr>\n",
       "  </thead>\n",
       "  <tbody>\n",
       "    <tr>\n",
       "      <th rowspan=\"5\" valign=\"top\">Bayes</th>\n",
       "      <th>/</th>\n",
       "      <td>0.019021</td>\n",
       "    </tr>\n",
       "    <tr>\n",
       "      <th>1-fundamentals/1.1-intro-to-data-science</th>\n",
       "      <td>0.006189</td>\n",
       "    </tr>\n",
       "    <tr>\n",
       "      <th>1-fundamentals/1.2-data-science-pipeline</th>\n",
       "      <td>0.002137</td>\n",
       "    </tr>\n",
       "    <tr>\n",
       "      <th>1-fundamentals/1.3-pipeline-demo</th>\n",
       "      <td>0.001257</td>\n",
       "    </tr>\n",
       "    <tr>\n",
       "      <th>1-fundamentals/2.1-excel-overview</th>\n",
       "      <td>0.000832</td>\n",
       "    </tr>\n",
       "    <tr>\n",
       "      <th>...</th>\n",
       "      <th>...</th>\n",
       "      <td>...</td>\n",
       "    </tr>\n",
       "    <tr>\n",
       "      <th rowspan=\"5\" valign=\"top\">Florence</th>\n",
       "      <th>subqueries</th>\n",
       "      <td>0.000019</td>\n",
       "    </tr>\n",
       "    <tr>\n",
       "      <th>timeseries/modeling-lesson2</th>\n",
       "      <td>0.000010</td>\n",
       "    </tr>\n",
       "    <tr>\n",
       "      <th>timeseries/overview</th>\n",
       "      <td>0.000048</td>\n",
       "    </tr>\n",
       "    <tr>\n",
       "      <th>vocabulary</th>\n",
       "      <td>0.000019</td>\n",
       "    </tr>\n",
       "    <tr>\n",
       "      <th>where</th>\n",
       "      <td>0.000010</td>\n",
       "    </tr>\n",
       "  </tbody>\n",
       "</table>\n",
       "<p>1764 rows × 1 columns</p>\n",
       "</div>"
      ],
      "text/plain": [
       "                                                    user_id\n",
       "name     end_page                                          \n",
       "Bayes    /                                         0.019021\n",
       "         1-fundamentals/1.1-intro-to-data-science  0.006189\n",
       "         1-fundamentals/1.2-data-science-pipeline  0.002137\n",
       "         1-fundamentals/1.3-pipeline-demo          0.001257\n",
       "         1-fundamentals/2.1-excel-overview         0.000832\n",
       "...                                                     ...\n",
       "Florence subqueries                                0.000019\n",
       "         timeseries/modeling-lesson2               0.000010\n",
       "         timeseries/overview                       0.000048\n",
       "         vocabulary                                0.000019\n",
       "         where                                     0.000010\n",
       "\n",
       "[1764 rows x 1 columns]"
      ]
     },
     "execution_count": 53,
     "metadata": {},
     "output_type": "execute_result"
    }
   ],
   "source": [
    "ds_freq = pd.DataFrame(ds_df.groupby(['name', 'end_page']).user_id.count() / ds_df.user_id.count())\n",
    "ds_freq"
   ]
  },
  {
   "cell_type": "code",
   "execution_count": 67,
   "id": "acc882cc",
   "metadata": {},
   "outputs": [
    {
     "data": {
      "text/plain": [
       "False    1762\n",
       "True        2\n",
       "Name: user_id, dtype: int64"
      ]
     },
     "execution_count": 67,
     "metadata": {},
     "output_type": "execute_result"
    }
   ],
   "source": [
    "(ds_freq.user_id>0.02).value_counts()\n",
    "# time to track down the one True"
   ]
  },
  {
   "cell_type": "code",
   "execution_count": 69,
   "id": "b910850b",
   "metadata": {},
   "outputs": [
    {
     "data": {
      "text/plain": [
       "(array([  0, 953]),)"
      ]
     },
     "execution_count": 69,
     "metadata": {},
     "output_type": "execute_result"
    }
   ],
   "source": [
    "holy_one = np.where(ds_freq.user_id>0.02)\n",
    "holy_one"
   ]
  },
  {
   "cell_type": "code",
   "execution_count": 70,
   "id": "ee2e452c",
   "metadata": {},
   "outputs": [
    {
     "data": {
      "text/plain": [
       "('Darden', '/')"
      ]
     },
     "execution_count": 70,
     "metadata": {},
     "output_type": "execute_result"
    }
   ],
   "source": [
    "ds_freq.index[953]"
   ]
  },
  {
   "cell_type": "markdown",
   "id": "37769565",
   "metadata": {},
   "source": [
    "### For Java web development program"
   ]
  },
  {
   "cell_type": "code",
   "execution_count": 71,
   "id": "8aa3b8fd",
   "metadata": {},
   "outputs": [
    {
     "data": {
      "text/html": [
       "<div>\n",
       "<style scoped>\n",
       "    .dataframe tbody tr th:only-of-type {\n",
       "        vertical-align: middle;\n",
       "    }\n",
       "\n",
       "    .dataframe tbody tr th {\n",
       "        vertical-align: top;\n",
       "    }\n",
       "\n",
       "    .dataframe thead th {\n",
       "        text-align: right;\n",
       "    }\n",
       "</style>\n",
       "<table border=\"1\" class=\"dataframe\">\n",
       "  <thead>\n",
       "    <tr style=\"text-align: right;\">\n",
       "      <th></th>\n",
       "      <th></th>\n",
       "      <th>user_id</th>\n",
       "    </tr>\n",
       "    <tr>\n",
       "      <th>name</th>\n",
       "      <th>end_page</th>\n",
       "      <th></th>\n",
       "    </tr>\n",
       "  </thead>\n",
       "  <tbody>\n",
       "    <tr>\n",
       "      <th rowspan=\"5\" valign=\"top\">Andromeda</th>\n",
       "      <th>/</th>\n",
       "      <td>0.001865</td>\n",
       "    </tr>\n",
       "    <tr>\n",
       "      <th>1-fundamentals/1.1-intro-to-data-science</th>\n",
       "      <td>0.000002</td>\n",
       "    </tr>\n",
       "    <tr>\n",
       "      <th>1-fundamentals/1.2-data-science-pipeline</th>\n",
       "      <td>0.000002</td>\n",
       "    </tr>\n",
       "    <tr>\n",
       "      <th>1-fundamentals/1.3-pipeline-demo</th>\n",
       "      <td>0.000002</td>\n",
       "    </tr>\n",
       "    <tr>\n",
       "      <th>1-fundamentals/AI-ML-DL-timeline.jpg</th>\n",
       "      <td>0.000002</td>\n",
       "    </tr>\n",
       "    <tr>\n",
       "      <th>...</th>\n",
       "      <th>...</th>\n",
       "      <td>...</td>\n",
       "    </tr>\n",
       "    <tr>\n",
       "      <th rowspan=\"5\" valign=\"top\">Zion</th>\n",
       "      <th>uploads/598dc43df39e2.jpg</th>\n",
       "      <td>0.000002</td>\n",
       "    </tr>\n",
       "    <tr>\n",
       "      <th>web-design/intro</th>\n",
       "      <td>0.000002</td>\n",
       "    </tr>\n",
       "    <tr>\n",
       "      <th>web-design/ui/visuals</th>\n",
       "      <td>0.000002</td>\n",
       "    </tr>\n",
       "    <tr>\n",
       "      <th>web-design/ux/layout</th>\n",
       "      <td>0.000002</td>\n",
       "    </tr>\n",
       "    <tr>\n",
       "      <th>web-design/ux/purpose</th>\n",
       "      <td>0.000002</td>\n",
       "    </tr>\n",
       "  </tbody>\n",
       "</table>\n",
       "<p>7826 rows × 1 columns</p>\n",
       "</div>"
      ],
      "text/plain": [
       "                                                     user_id\n",
       "name      end_page                                          \n",
       "Andromeda /                                         0.001865\n",
       "          1-fundamentals/1.1-intro-to-data-science  0.000002\n",
       "          1-fundamentals/1.2-data-science-pipeline  0.000002\n",
       "          1-fundamentals/1.3-pipeline-demo          0.000002\n",
       "          1-fundamentals/AI-ML-DL-timeline.jpg      0.000002\n",
       "...                                                      ...\n",
       "Zion      uploads/598dc43df39e2.jpg                 0.000002\n",
       "          web-design/intro                          0.000002\n",
       "          web-design/ui/visuals                     0.000002\n",
       "          web-design/ux/layout                      0.000002\n",
       "          web-design/ux/purpose                     0.000002\n",
       "\n",
       "[7826 rows x 1 columns]"
      ]
     },
     "execution_count": 71,
     "metadata": {},
     "output_type": "execute_result"
    }
   ],
   "source": [
    "wd_freq = pd.DataFrame(wd_df.groupby(['name', 'end_page']).user_id.count() / wd_df.user_id.count())\n",
    "wd_freq"
   ]
  },
  {
   "cell_type": "code",
   "execution_count": 86,
   "id": "7d231af6",
   "metadata": {},
   "outputs": [
    {
     "data": {
      "text/plain": [
       "False    7825\n",
       "True        1\n",
       "Name: user_id, dtype: int64"
      ]
     },
     "execution_count": 86,
     "metadata": {},
     "output_type": "execute_result"
    }
   ],
   "source": [
    "(wd_freq.user_id>0.0033).value_counts()\n",
    "# time to track down the one True"
   ]
  },
  {
   "cell_type": "code",
   "execution_count": 87,
   "id": "2c84c0a9",
   "metadata": {},
   "outputs": [
    {
     "data": {
      "text/plain": [
       "(array([6116]),)"
      ]
     },
     "execution_count": 87,
     "metadata": {},
     "output_type": "execute_result"
    }
   ],
   "source": [
    "holy_one = np.where(wd_freq.user_id>0.0033)\n",
    "holy_one"
   ]
  },
  {
   "cell_type": "code",
   "execution_count": 89,
   "id": "32fe51b5",
   "metadata": {},
   "outputs": [
    {
     "data": {
      "text/plain": [
       "('Voyageurs', '/')"
      ]
     },
     "execution_count": 89,
     "metadata": {},
     "output_type": "execute_result"
    }
   ],
   "source": [
    "wd_freq.index[6116]"
   ]
  },
  {
   "cell_type": "markdown",
   "id": "67fe0c86",
   "metadata": {},
   "source": [
    "<div class=\"alert alert-block alert-success\">\n",
    "\n",
    "**Answer**\n",
    "    \n",
    "    *For Data Science, Darden is the cohort that had unusually high access for a lesson\n",
    "    *For Web Development, Voyageurs is the cohort with ususually high access for a lesson\n",
    "    \n",
    "If given more time, I would conduct statistical tests to determine how significant the differenct is between the means of the cohorts access vs. the means of the whole programs access \n",
    "</div>"
   ]
  },
  {
   "cell_type": "code",
   "execution_count": null,
   "id": "6ec6cae7",
   "metadata": {},
   "outputs": [],
   "source": []
  }
 ],
 "metadata": {
  "kernelspec": {
   "display_name": "Python 3 (ipykernel)",
   "language": "python",
   "name": "python3"
  },
  "language_info": {
   "codemirror_mode": {
    "name": "ipython",
    "version": 3
   },
   "file_extension": ".py",
   "mimetype": "text/x-python",
   "name": "python",
   "nbconvert_exporter": "python",
   "pygments_lexer": "ipython3",
   "version": "3.9.12"
  }
 },
 "nbformat": 4,
 "nbformat_minor": 5
}
