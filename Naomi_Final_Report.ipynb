{
 "cells": [
  {
   "cell_type": "code",
   "execution_count": 1,
   "id": "d203ece7",
   "metadata": {},
   "outputs": [
    {
     "ename": "NameError",
     "evalue": "name 'ds_df' is not defined",
     "output_type": "error",
     "traceback": [
      "\u001b[0;31m---------------------------------------------------------------------------\u001b[0m",
      "\u001b[0;31mNameError\u001b[0m                                 Traceback (most recent call last)",
      "Input \u001b[0;32mIn [1]\u001b[0m, in \u001b[0;36m<cell line: 11>\u001b[0;34m()\u001b[0m\n\u001b[1;32m      8\u001b[0m \u001b[38;5;28;01mimport\u001b[39;00m \u001b[38;5;21;01mpandas\u001b[39;00m \u001b[38;5;28;01mas\u001b[39;00m \u001b[38;5;21;01mpd\u001b[39;00m\n\u001b[1;32m      9\u001b[0m \u001b[38;5;28;01mimport\u001b[39;00m \u001b[38;5;21;01menv\u001b[39;00m\n\u001b[0;32m---> 11\u001b[0m \u001b[38;5;28;01mimport\u001b[39;00m \u001b[38;5;21;01mNaomi_wrangle\u001b[39;00m \u001b[38;5;28;01mas\u001b[39;00m \u001b[38;5;21;01mw\u001b[39;00m\n",
      "File \u001b[0;32m~/codeup-data-science/AD_work/Naomi_wrangle.py:93\u001b[0m, in \u001b[0;36m<module>\u001b[0;34m\u001b[0m\n\u001b[1;32m     90\u001b[0m     plt\u001b[38;5;241m.\u001b[39mshow()\n\u001b[1;32m     92\u001b[0m \u001b[38;5;66;03m################################################################### DATA FRAMES FOR VISUALIZATION    \u001b[39;00m\n\u001b[0;32m---> 93\u001b[0m viz_ds \u001b[38;5;241m=\u001b[39m pd\u001b[38;5;241m.\u001b[39mDataFrame(\u001b[43mds_df\u001b[49m\u001b[38;5;241m.\u001b[39mdate\u001b[38;5;241m.\u001b[39mvalue_counts())\u001b[38;5;241m.\u001b[39msort_index()\n\u001b[1;32m     94\u001b[0m viz_wd \u001b[38;5;241m=\u001b[39m pd\u001b[38;5;241m.\u001b[39mDataFrame(wd_df\u001b[38;5;241m.\u001b[39mdate\u001b[38;5;241m.\u001b[39mvalue_counts())\u001b[38;5;241m.\u001b[39msort_index()\n",
      "\u001b[0;31mNameError\u001b[0m: name 'ds_df' is not defined"
     ]
    }
   ],
   "source": [
    "import warnings\n",
    "warnings.filterwarnings(\"ignore\")\n",
    "\n",
    "import matplotlib.pyplot as plt\n",
    "import seaborn as sns\n",
    "\n",
    "import numpy as np\n",
    "import pandas as pd\n",
    "import env\n",
    "\n",
    "import Naomi_wrangle as w"
   ]
  },
  {
   "cell_type": "markdown",
   "id": "c0155ff9",
   "metadata": {},
   "source": [
    "## Questions Answered:\n",
    "  - 1. Which lesson appears to attract the most traffic consistently across cohorts (per program)?\n",
    "  - 2. Which lessons are least accessed?\n",
    "  - 3.  At some point in 2019, the ability for students and alumni to access both curriculums (web dev to ds, ds to web dev) should have been shut off. Do you see any evidence of that happening? Did it happen before?\n",
    "  - 4. Is there any suspicious activity, such as users/machines/etc accessing the curriculum who shouldn’t be? Does it appear that any web-scraping is happening? Are there any suspicious IP addresses?\n",
    "  - 5. Are there students who, when active, hardly access the curriculum? If so, what information do you have about these students?\n"
   ]
  },
  {
   "cell_type": "markdown",
   "id": "63228cab",
   "metadata": {},
   "source": [
    "\n",
    "## Executive Summary:\n",
    "<div class=\"alert alert-block alert-warning\">\n",
    "\n",
    "* **Question One; Lessons most trafficked**: \n",
    "    * Data Science - classification \n",
    "    * Full Stack Front End - HTML-CSS\n",
    "    * Full Stack Java - javascript-i\n",
    "    * Full Stack PHP - index.html\n",
    "\n",
    "* **Question Two; Lessons least trafficked**:\n",
    "    * Data Science Program - NLP\n",
    "    * Full Stack Front End - All except HTML-CSS\n",
    "    * Full Stack Java - Professional Development\n",
    "    * Full Stack PHP - HTML-CSS\n",
    "\n",
    "* **Question Three; Cross curriculum access in 2019**:\n",
    "    * The year began with access being restricted, but begining in August restriciton was lifted and students could access pages cross-curriculum\n",
    "    \n",
    "* **Question Four; Suspicious Activity**:\n",
    "</div>"
   ]
  },
  {
   "cell_type": "markdown",
   "id": "6330676e",
   "metadata": {},
   "source": [
    "# Acquire Data"
   ]
  },
  {
   "cell_type": "code",
   "execution_count": null,
   "id": "108fd0d1",
   "metadata": {},
   "outputs": [],
   "source": [
    "# acquire data from SQL and save to dataframe\n",
    "df = w.wrangle_curriculum_data()\n",
    "df.head(3)"
   ]
  },
  {
   "cell_type": "code",
   "execution_count": null,
   "id": "d325c0d0",
   "metadata": {},
   "outputs": [],
   "source": [
    "df.info()"
   ]
  },
  {
   "cell_type": "markdown",
   "id": "1c1236d2",
   "metadata": {},
   "source": [
    "# Question 1: Which lesson appears to attract the most traffic consistently across cohorts (per program)?"
   ]
  },
  {
   "cell_type": "markdown",
   "id": "fdaaceeb",
   "metadata": {},
   "source": [
    "#### Plan to Answer: \n",
    "- Create dataframes of students grouped by program\n",
    "- Use `value_counts` and `nlargest` methods over the `end_page` column to determine which has the highest number of \"hits\"\n"
   ]
  },
  {
   "cell_type": "code",
   "execution_count": null,
   "id": "195e8bf4",
   "metadata": {},
   "outputs": [],
   "source": [
    "# For Data Science:\n",
    "ds_cohorts = df.loc[df[\"program_name\"] == \"data_science\"]\n",
    "ds_cohorts.end_page.value_counts().nlargest(3)"
   ]
  },
  {
   "cell_type": "code",
   "execution_count": null,
   "id": "6c4887bc",
   "metadata": {},
   "outputs": [],
   "source": [
    "# For Full-Stack PHP\n",
    "full_stack_php_cohorts = df.loc[df[\"program_name\"] == \"full_stack_php\"]\n",
    "full_stack_php_cohorts.end_page.value_counts().nlargest(3)"
   ]
  },
  {
   "cell_type": "code",
   "execution_count": null,
   "id": "0673e23e",
   "metadata": {},
   "outputs": [],
   "source": [
    "# For Full-Stack Java\n",
    "full_stack_java_cohorts = df.loc[df[\"program_name\"] == \"full_stack_java\"]\n",
    "full_stack_java_cohorts.end_page.value_counts().nlargest(3)"
   ]
  },
  {
   "cell_type": "code",
   "execution_count": null,
   "id": "3ac1c388",
   "metadata": {},
   "outputs": [],
   "source": [
    "# For Front End\n",
    "front_end_cohorts = df.loc[df[\"program_name\"] == \"front_end\"]\n",
    "front_end_cohorts.end_page.value_counts().nlargest(3)"
   ]
  },
  {
   "cell_type": "markdown",
   "id": "35226a4e",
   "metadata": {},
   "source": [
    "<div class=\"alert alert-block alert-success\">\n",
    "\n",
    "**Answer**\n",
    "\n",
    "|Program| Most Trafficked|\n",
    "|:-------|:---------------|\n",
    "|**Data Science**| Classification Overview|\n",
    "|**Full Stack PHP** | Java Script-i|\n",
    "|**Full Stack Java** | Java Script-i|\n",
    "|**Front End** | HTML-css|\n",
    "</div>"
   ]
  },
  {
   "cell_type": "markdown",
   "id": "6da25040",
   "metadata": {},
   "source": [
    "# Question 2: Which lessons are least accessed?"
   ]
  },
  {
   "cell_type": "markdown",
   "id": "247403de",
   "metadata": {},
   "source": [
    "#### Plan to Answer: \n",
    "- Use previous question's dataframes of students grouped by program\n",
    "- Use `value_counts` and `nsmallest` methods over the `end_page` column to determine which has the lowest number of \"hits\"\n"
   ]
  },
  {
   "cell_type": "code",
   "execution_count": null,
   "id": "d93ff7b5",
   "metadata": {},
   "outputs": [],
   "source": [
    "# For Data Science:\n",
    "ds_cohorts.end_page.value_counts().nsmallest(105)\n"
   ]
  },
  {
   "cell_type": "code",
   "execution_count": null,
   "id": "42ccfa67",
   "metadata": {},
   "outputs": [],
   "source": [
    "# 105 is the first instance of two hits for the page"
   ]
  },
  {
   "cell_type": "code",
   "execution_count": null,
   "id": "8188c1d6",
   "metadata": {},
   "outputs": [],
   "source": [
    "# For Full-Stack PHP\n",
    "full_stack_php_cohorts.end_page.value_counts().nsmallest(210)\n"
   ]
  },
  {
   "cell_type": "code",
   "execution_count": null,
   "id": "81876bdf",
   "metadata": {},
   "outputs": [],
   "source": [
    "# 206 is the first instance of two hits for the page"
   ]
  },
  {
   "cell_type": "code",
   "execution_count": null,
   "id": "d9027f37",
   "metadata": {
    "scrolled": true
   },
   "outputs": [],
   "source": [
    "# For Full-Stack Java\n",
    "full_stack_java_cohorts.end_page.value_counts().nsmallest()\n"
   ]
  },
  {
   "cell_type": "code",
   "execution_count": null,
   "id": "918dd4c7",
   "metadata": {},
   "outputs": [],
   "source": [
    "# 344 is the first instance of two pages being the lowest value_count which is mapbox_api"
   ]
  },
  {
   "cell_type": "code",
   "execution_count": null,
   "id": "fcd8b269",
   "metadata": {},
   "outputs": [],
   "source": [
    "# For Front End\n",
    "front_end_cohorts.end_page.value_counts().nsmallest()\n"
   ]
  },
  {
   "cell_type": "markdown",
   "id": "6b0d0d9b",
   "metadata": {},
   "source": [
    "<div class=\"alert alert-block alert-success\">\n",
    "\n",
    "**Answer**\n",
    "\n",
    "|Program| Least Trafficked| Number of Pages Before Two Hits is the Lowest Number per Page|\n",
    "|:-------|:---------------|:-----|\n",
    "|**Data Science**| NLP|105 pages|\n",
    "|**Full Stack PHP** | Slides/Threads|206 pages|\n",
    "|**Full Stack Java** |Professional Development/Professional Resume| 344 pages|\n",
    "|**Front End** | all pages except HTM-CSS| 3 pages *(represents 25% of total)*|\n",
    "</div>"
   ]
  },
  {
   "cell_type": "markdown",
   "id": "9e0e9bc0",
   "metadata": {},
   "source": [
    "# Question 3: At some point in 2019, the ability for students and alumni to access both curriculums (web dev to ds, ds to web dev) should have been shut off. Do you see any evidence of that happening? Did it happen before?"
   ]
  },
  {
   "cell_type": "code",
   "execution_count": null,
   "id": "47283631",
   "metadata": {},
   "outputs": [],
   "source": [
    "# creating dataframes for the programs\n",
    "\n",
    "ds_df = df[(df.program_name == 'data_science')]\n",
    "\n",
    "web_df = df.copy()\n",
    "web_df.program_name = web_df.program_name.replace({'full_stack_php':'web_dev','full_stack_java':'web_dev','front_end': 'web_dev'})\n",
    "\n",
    "wd_df = web_df[(web_df.program_name == 'web_dev')]"
   ]
  },
  {
   "cell_type": "code",
   "execution_count": null,
   "id": "74ef7045",
   "metadata": {},
   "outputs": [],
   "source": [
    "# zeroing in on 2019\n",
    "yr_2019=df[df.index.year == 2019]"
   ]
  },
  {
   "cell_type": "code",
   "execution_count": null,
   "id": "d14933ce",
   "metadata": {},
   "outputs": [],
   "source": [
    "# creating data frames for the programs only of the year 2019\n",
    "ds_df_19 = yr_2019[(yr_2019.program_name == 'data_science')]\n",
    "\n",
    "wd_df_19 = web_df[(web_df.program_name == 'web_dev')]"
   ]
  }
 ],
 "metadata": {
  "kernelspec": {
   "display_name": "Python 3 (ipykernel)",
   "language": "python",
   "name": "python3"
  },
  "language_info": {
   "codemirror_mode": {
    "name": "ipython",
    "version": 3
   },
   "file_extension": ".py",
   "mimetype": "text/x-python",
   "name": "python",
   "nbconvert_exporter": "python",
   "pygments_lexer": "ipython3",
   "version": "3.9.12"
  }
 },
 "nbformat": 4,
 "nbformat_minor": 5
}
