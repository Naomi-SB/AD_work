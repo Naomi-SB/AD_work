{
 "cells": [
  {
   "cell_type": "code",
   "execution_count": 1,
   "id": "d203ece7",
   "metadata": {},
   "outputs": [],
   "source": [
    "import warnings\n",
    "warnings.filterwarnings(\"ignore\")\n",
    "\n",
    "import matplotlib.pyplot as plt\n",
    "import seaborn as sns\n",
    "\n",
    "import numpy as np\n",
    "import pandas as pd\n",
    "import env\n",
    "\n",
    "import Naomi_wrangle as w"
   ]
  },
  {
   "cell_type": "markdown",
   "id": "c0155ff9",
   "metadata": {},
   "source": [
    "## Questions Answered:\n",
    "  - 1. Which lesson appears to attract the most traffic consistently across cohorts (per program)?\n",
    "  - 2. Which lessons are least accessed?\n",
    "  - 3.  At some point in 2019, the ability for students and alumni to access both curriculums (web dev to ds, ds to web dev) should have been shut off. Do you see any evidence of that happening? Did it happen before?\n",
    "  - 4. Is there any suspicious activity, such as users/machines/etc accessing the curriculum who shouldn’t be? Does it appear that any web-scraping is happening? Are there any suspicious IP addresses?\n",
    "  - 5. Are there students who, when active, hardly access the curriculum? If so, what information do you have about these students?\n"
   ]
  },
  {
   "cell_type": "markdown",
   "id": "63228cab",
   "metadata": {},
   "source": [
    "\n",
    "## Executive Summary:\n",
    "<div class=\"alert alert-block alert-warning\">\n",
    "\n",
    "* **Question One; Lessons most trafficked**: \n",
    "    * Data Science - classification \n",
    "    * Full Stack Front End - HTML-CSS\n",
    "    * Full Stack Java - javascript-i\n",
    "    * Full Stack PHP - index.html\n",
    "\n",
    "* **Question Two; Lessons least trafficked**:\n",
    "    * Data Science Program - NLP\n",
    "    * Full Stack Front End - All except HTML-CSS\n",
    "    * Full Stack Java - Professional Development\n",
    "    * Full Stack PHP - HTML-CSS\n",
    "\n",
    "* **Question Three; Cross curriculum access in 2019**:\n",
    "    * The year began with access being restricted, but begining in August restriciton was lifted and students could access pages cross-curriculum\n",
    "    \n",
    "* **Question Four; Suspicious Activity**:\n",
    "</div>"
   ]
  },
  {
   "cell_type": "markdown",
   "id": "6330676e",
   "metadata": {},
   "source": [
    "# Acquire Data"
   ]
  },
  {
   "cell_type": "code",
   "execution_count": 2,
   "id": "108fd0d1",
   "metadata": {},
   "outputs": [
    {
     "data": {
      "text/html": [
       "<div>\n",
       "<style scoped>\n",
       "    .dataframe tbody tr th:only-of-type {\n",
       "        vertical-align: middle;\n",
       "    }\n",
       "\n",
       "    .dataframe tbody tr th {\n",
       "        vertical-align: top;\n",
       "    }\n",
       "\n",
       "    .dataframe thead th {\n",
       "        text-align: right;\n",
       "    }\n",
       "</style>\n",
       "<table border=\"1\" class=\"dataframe\">\n",
       "  <thead>\n",
       "    <tr style=\"text-align: right;\">\n",
       "      <th></th>\n",
       "      <th>time</th>\n",
       "      <th>user_id</th>\n",
       "      <th>cohort_id</th>\n",
       "      <th>ip</th>\n",
       "      <th>id</th>\n",
       "      <th>name</th>\n",
       "      <th>slack</th>\n",
       "      <th>start_date</th>\n",
       "      <th>end_date</th>\n",
       "      <th>created_at</th>\n",
       "      <th>updated_at</th>\n",
       "      <th>program_name</th>\n",
       "      <th>end_page</th>\n",
       "    </tr>\n",
       "    <tr>\n",
       "      <th>date</th>\n",
       "      <th></th>\n",
       "      <th></th>\n",
       "      <th></th>\n",
       "      <th></th>\n",
       "      <th></th>\n",
       "      <th></th>\n",
       "      <th></th>\n",
       "      <th></th>\n",
       "      <th></th>\n",
       "      <th></th>\n",
       "      <th></th>\n",
       "      <th></th>\n",
       "      <th></th>\n",
       "    </tr>\n",
       "  </thead>\n",
       "  <tbody>\n",
       "    <tr>\n",
       "      <th>2018-01-26</th>\n",
       "      <td>09:55:03</td>\n",
       "      <td>1</td>\n",
       "      <td>8.0</td>\n",
       "      <td>97.105.19.61</td>\n",
       "      <td>8.0</td>\n",
       "      <td>Hampton</td>\n",
       "      <td>#hampton</td>\n",
       "      <td>2015-09-22 00:00:00</td>\n",
       "      <td>2016-02-06 00:00:00</td>\n",
       "      <td>2016-06-14 19:52:26</td>\n",
       "      <td>2016-06-14 19:52:26</td>\n",
       "      <td>full_stack_php</td>\n",
       "      <td>/</td>\n",
       "    </tr>\n",
       "    <tr>\n",
       "      <th>2018-01-26</th>\n",
       "      <td>09:56:02</td>\n",
       "      <td>1</td>\n",
       "      <td>8.0</td>\n",
       "      <td>97.105.19.61</td>\n",
       "      <td>8.0</td>\n",
       "      <td>Hampton</td>\n",
       "      <td>#hampton</td>\n",
       "      <td>2015-09-22 00:00:00</td>\n",
       "      <td>2016-02-06 00:00:00</td>\n",
       "      <td>2016-06-14 19:52:26</td>\n",
       "      <td>2016-06-14 19:52:26</td>\n",
       "      <td>full_stack_php</td>\n",
       "      <td>java-ii</td>\n",
       "    </tr>\n",
       "    <tr>\n",
       "      <th>2018-01-26</th>\n",
       "      <td>09:56:05</td>\n",
       "      <td>1</td>\n",
       "      <td>8.0</td>\n",
       "      <td>97.105.19.61</td>\n",
       "      <td>8.0</td>\n",
       "      <td>Hampton</td>\n",
       "      <td>#hampton</td>\n",
       "      <td>2015-09-22 00:00:00</td>\n",
       "      <td>2016-02-06 00:00:00</td>\n",
       "      <td>2016-06-14 19:52:26</td>\n",
       "      <td>2016-06-14 19:52:26</td>\n",
       "      <td>full_stack_php</td>\n",
       "      <td>java-ii/object-oriented-programming</td>\n",
       "    </tr>\n",
       "  </tbody>\n",
       "</table>\n",
       "</div>"
      ],
      "text/plain": [
       "                time  user_id cohort_id            ip   id     name     slack  \\\n",
       "date                                                                            \n",
       "2018-01-26  09:55:03        1       8.0  97.105.19.61  8.0  Hampton  #hampton   \n",
       "2018-01-26  09:56:02        1       8.0  97.105.19.61  8.0  Hampton  #hampton   \n",
       "2018-01-26  09:56:05        1       8.0  97.105.19.61  8.0  Hampton  #hampton   \n",
       "\n",
       "                     start_date             end_date           created_at  \\\n",
       "date                                                                        \n",
       "2018-01-26  2015-09-22 00:00:00  2016-02-06 00:00:00  2016-06-14 19:52:26   \n",
       "2018-01-26  2015-09-22 00:00:00  2016-02-06 00:00:00  2016-06-14 19:52:26   \n",
       "2018-01-26  2015-09-22 00:00:00  2016-02-06 00:00:00  2016-06-14 19:52:26   \n",
       "\n",
       "                     updated_at    program_name  \\\n",
       "date                                              \n",
       "2018-01-26  2016-06-14 19:52:26  full_stack_php   \n",
       "2018-01-26  2016-06-14 19:52:26  full_stack_php   \n",
       "2018-01-26  2016-06-14 19:52:26  full_stack_php   \n",
       "\n",
       "                                       end_page  \n",
       "date                                             \n",
       "2018-01-26                                    /  \n",
       "2018-01-26                              java-ii  \n",
       "2018-01-26  java-ii/object-oriented-programming  "
      ]
     },
     "execution_count": 2,
     "metadata": {},
     "output_type": "execute_result"
    }
   ],
   "source": [
    "# acquire data from SQL and save to dataframe\n",
    "df = w.wrangle_curriculum_data()\n",
    "df.head(3)"
   ]
  },
  {
   "cell_type": "code",
   "execution_count": 3,
   "id": "d325c0d0",
   "metadata": {},
   "outputs": [
    {
     "name": "stdout",
     "output_type": "stream",
     "text": [
      "<class 'pandas.core.frame.DataFrame'>\n",
      "DatetimeIndex: 816192 entries, 2018-01-26 to 2021-04-21\n",
      "Data columns (total 13 columns):\n",
      " #   Column        Non-Null Count   Dtype \n",
      "---  ------        --------------   ----- \n",
      " 0   time          816192 non-null  object\n",
      " 1   user_id       816192 non-null  int64 \n",
      " 2   cohort_id     816192 non-null  object\n",
      " 3   ip            816192 non-null  object\n",
      " 4   id            816192 non-null  object\n",
      " 5   name          816192 non-null  object\n",
      " 6   slack         816192 non-null  object\n",
      " 7   start_date    816192 non-null  object\n",
      " 8   end_date      816192 non-null  object\n",
      " 9   created_at    816192 non-null  object\n",
      " 10  updated_at    816192 non-null  object\n",
      " 11  program_name  816192 non-null  object\n",
      " 12  end_page      816192 non-null  object\n",
      "dtypes: int64(1), object(12)\n",
      "memory usage: 87.2+ MB\n"
     ]
    }
   ],
   "source": [
    "df.info()"
   ]
  },
  {
   "cell_type": "markdown",
   "id": "1c1236d2",
   "metadata": {},
   "source": [
    "# Question 1: Which lesson appears to attract the most traffic consistently across cohorts (per program)?"
   ]
  },
  {
   "cell_type": "markdown",
   "id": "fdaaceeb",
   "metadata": {},
   "source": [
    "#### Plan to Answer: \n",
    "- Create dataframes of students grouped by program\n",
    "- Use `value_counts` and `nlargest` methods over the `end_page` column to determine which has the highest number of \"hits\"\n"
   ]
  },
  {
   "cell_type": "code",
   "execution_count": 4,
   "id": "195e8bf4",
   "metadata": {},
   "outputs": [
    {
     "data": {
      "text/plain": [
       "/                           8358\n",
       "search/search_index.json    2203\n",
       "classification/overview     1785\n",
       "Name: end_page, dtype: int64"
      ]
     },
     "execution_count": 4,
     "metadata": {},
     "output_type": "execute_result"
    }
   ],
   "source": [
    "# For Data Science:\n",
    "ds_cohorts = df.loc[df[\"program_name\"] == \"data_science\"]\n",
    "ds_cohorts.end_page.value_counts().nlargest(3)"
   ]
  },
  {
   "cell_type": "code",
   "execution_count": 5,
   "id": "6c4887bc",
   "metadata": {},
   "outputs": [
    {
     "data": {
      "text/plain": [
       "/               1681\n",
       "index.html      1011\n",
       "javascript-i     736\n",
       "Name: end_page, dtype: int64"
      ]
     },
     "execution_count": 5,
     "metadata": {},
     "output_type": "execute_result"
    }
   ],
   "source": [
    "# For Full-Stack PHP\n",
    "full_stack_php_cohorts = df.loc[df[\"program_name\"] == \"full_stack_php\"]\n",
    "full_stack_php_cohorts.end_page.value_counts().nlargest(3)"
   ]
  },
  {
   "cell_type": "code",
   "execution_count": 6,
   "id": "0673e23e",
   "metadata": {},
   "outputs": [
    {
     "data": {
      "text/plain": [
       "/               29474\n",
       "toc             16517\n",
       "javascript-i    15640\n",
       "Name: end_page, dtype: int64"
      ]
     },
     "execution_count": 6,
     "metadata": {},
     "output_type": "execute_result"
    }
   ],
   "source": [
    "# For Full-Stack Java\n",
    "full_stack_java_cohorts = df.loc[df[\"program_name\"] == \"full_stack_java\"]\n",
    "full_stack_java_cohorts.end_page.value_counts().nlargest(3)"
   ]
  },
  {
   "cell_type": "code",
   "execution_count": 7,
   "id": "3ac1c388",
   "metadata": {},
   "outputs": [
    {
     "data": {
      "text/plain": [
       "content/html-css                               2\n",
       "/                                              1\n",
       "content/html-css/gitbook/images/favicon.ico    1\n",
       "Name: end_page, dtype: int64"
      ]
     },
     "execution_count": 7,
     "metadata": {},
     "output_type": "execute_result"
    }
   ],
   "source": [
    "# For Front End\n",
    "front_end_cohorts = df.loc[df[\"program_name\"] == \"front_end\"]\n",
    "front_end_cohorts.end_page.value_counts().nlargest(3)"
   ]
  },
  {
   "cell_type": "markdown",
   "id": "35226a4e",
   "metadata": {},
   "source": [
    "<div class=\"alert alert-block alert-success\">\n",
    "\n",
    "**Answer**\n",
    "\n",
    "|Program| Most Trafficked|\n",
    "|:-------|:---------------|\n",
    "|**Data Science**| Classification Overview|\n",
    "|**Full Stack PHP** | Java Script-i|\n",
    "|**Full Stack Java** | Java Script-i|\n",
    "|**Front End** | HTML-css|\n",
    "</div>"
   ]
  },
  {
   "cell_type": "markdown",
   "id": "6da25040",
   "metadata": {},
   "source": [
    "# Question 2: Which lessons are least accessed?"
   ]
  },
  {
   "cell_type": "markdown",
   "id": "247403de",
   "metadata": {},
   "source": [
    "#### Plan to Answer: \n",
    "- Use previous question's dataframes of students grouped by program\n",
    "- Use `value_counts` and `nsmallest` methods over the `end_page` column to determine which has the lowest number of \"hits\"\n"
   ]
  },
  {
   "cell_type": "code",
   "execution_count": 8,
   "id": "d93ff7b5",
   "metadata": {},
   "outputs": [
    {
     "data": {
      "text/plain": [
       "nlp                                             1\n",
       "regression/feature_engineering_into_modeling    1\n",
       "json-responses                                  1\n",
       "2.1-spreadsheets-overview                       1\n",
       "introduction-to-python                          1\n",
       "                                               ..\n",
       "imports                                         1\n",
       "java-i/console-io                               1\n",
       "appendix/univariate_regression_in_excel         1\n",
       "6-regression/8-Project                          1\n",
       "timeseries/E2E_example                          2\n",
       "Name: end_page, Length: 105, dtype: int64"
      ]
     },
     "execution_count": 8,
     "metadata": {},
     "output_type": "execute_result"
    }
   ],
   "source": [
    "# For Data Science:\n",
    "ds_cohorts.end_page.value_counts().nsmallest(105)\n"
   ]
  },
  {
   "cell_type": "code",
   "execution_count": 9,
   "id": "42ccfa67",
   "metadata": {},
   "outputs": [],
   "source": [
    "# 105 is the first instance of two hits for the page"
   ]
  },
  {
   "cell_type": "code",
   "execution_count": 10,
   "id": "8188c1d6",
   "metadata": {},
   "outputs": [
    {
     "data": {
      "text/plain": [
       "slides/threads                                1\n",
       "2-storytelling/project                        1\n",
       "appendix/data-viz-references                  1\n",
       "4-python/6-imports                            1\n",
       "4-python/project                              1\n",
       "                                             ..\n",
       "content/primitive-types.html                  2\n",
       "login                                         3\n",
       "content/examples/git                          3\n",
       "content/examples/php/if_else.php              3\n",
       "content/mysql/basic-statements/delete.html    3\n",
       "Name: end_page, Length: 210, dtype: int64"
      ]
     },
     "execution_count": 10,
     "metadata": {},
     "output_type": "execute_result"
    }
   ],
   "source": [
    "# For Full-Stack PHP\n",
    "full_stack_php_cohorts.end_page.value_counts().nsmallest(210)\n"
   ]
  },
  {
   "cell_type": "code",
   "execution_count": 11,
   "id": "81876bdf",
   "metadata": {},
   "outputs": [],
   "source": [
    "# 206 is the first instance of two hits for the page"
   ]
  },
  {
   "cell_type": "code",
   "execution_count": 12,
   "id": "d9027f37",
   "metadata": {
    "scrolled": true
   },
   "outputs": [
    {
     "data": {
      "text/plain": [
       "professional-development/professional-resume    1\n",
       "javascript-i/intruduction/operators             1\n",
       "mini_exercises                                  1\n",
       "teams                                           1\n",
       "sgithubtudents/1215                             1\n",
       "Name: end_page, dtype: int64"
      ]
     },
     "execution_count": 12,
     "metadata": {},
     "output_type": "execute_result"
    }
   ],
   "source": [
    "# For Full-Stack Java\n",
    "full_stack_java_cohorts.end_page.value_counts().nsmallest()\n"
   ]
  },
  {
   "cell_type": "code",
   "execution_count": 13,
   "id": "918dd4c7",
   "metadata": {},
   "outputs": [],
   "source": [
    "# 344 is the first instance of two pages being the lowest value_count which is mapbox_api"
   ]
  },
  {
   "cell_type": "code",
   "execution_count": 14,
   "id": "fcd8b269",
   "metadata": {},
   "outputs": [
    {
     "data": {
      "text/plain": [
       "/                                              1\n",
       "content/html-css/gitbook/images/favicon.ico    1\n",
       "content/html-css/introduction.html             1\n",
       "content/html-css                               2\n",
       "Name: end_page, dtype: int64"
      ]
     },
     "execution_count": 14,
     "metadata": {},
     "output_type": "execute_result"
    }
   ],
   "source": [
    "# For Front End\n",
    "front_end_cohorts.end_page.value_counts().nsmallest()\n"
   ]
  },
  {
   "cell_type": "markdown",
   "id": "6b0d0d9b",
   "metadata": {},
   "source": [
    "<div class=\"alert alert-block alert-success\">\n",
    "\n",
    "**Answer**\n",
    "\n",
    "|Program| Least Trafficked| Number of Pages Before Two Hits is the Lowest Number per Page|\n",
    "|:-------|:---------------|:-----|\n",
    "|**Data Science**| NLP|105 pages|\n",
    "|**Full Stack PHP** | Slides/Threads|206 pages|\n",
    "|**Full Stack Java** |Professional Development/Professional Resume| 344 pages|\n",
    "|**Front End** | all pages except HTM-CSS| 3 pages *(represents 25% of total)*|\n",
    "</div>"
   ]
  },
  {
   "cell_type": "markdown",
   "id": "9e0e9bc0",
   "metadata": {},
   "source": [
    "# Question 3: At some point in 2019, the ability for students and alumni to access both curriculums (web dev to ds, ds to web dev) should have been shut off. Do you see any evidence of that happening? Did it happen before?"
   ]
  },
  {
   "cell_type": "code",
   "execution_count": 15,
   "id": "47283631",
   "metadata": {},
   "outputs": [],
   "source": [
    "# creating dataframes for the programs\n",
    "\n",
    "ds_df = df[(df.program_name == 'data_science')]\n",
    "\n",
    "web_df = df.copy()\n",
    "web_df.program_name = web_df.program_name.replace({'full_stack_php':'web_dev','full_stack_java':'web_dev','front_end': 'web_dev'})\n",
    "\n",
    "wd_df = web_df[(web_df.program_name == 'web_dev')]"
   ]
  },
  {
   "cell_type": "code",
   "execution_count": 16,
   "id": "74ef7045",
   "metadata": {},
   "outputs": [],
   "source": [
    "# zeroing in on 2019\n",
    "yr_2019=df[df.index.year == 2019]"
   ]
  },
  {
   "cell_type": "code",
   "execution_count": 17,
   "id": "d14933ce",
   "metadata": {},
   "outputs": [],
   "source": [
    "# creating data frames for the programs only of the year 2019\n",
    "ds_df_19 = yr_2019[(yr_2019.program_name == 'data_science')]\n",
    "\n",
    "wd_df_19 = web_df[(web_df.program_name == 'web_dev')]"
   ]
  },
  {
   "cell_type": "code",
   "execution_count": 19,
   "id": "50a360e2",
   "metadata": {},
   "outputs": [
    {
     "name": "stdout",
     "output_type": "stream",
     "text": [
      "95\n"
     ]
    }
   ],
   "source": [
    "# unique pages visited \n",
    "ds_page= list(ds_df_19.end_page.unique())\n",
    "\n",
    "# list of unique pages in web dev\n",
    "web_page= list(wd_df_19.end_page.unique())\n",
    "\n",
    "# create a loop to cross check a page visited by ds students that matches with unique pages from web dev program\n",
    "\n",
    "count= 0\n",
    "for x in web_page:\n",
    "    if x in ds_page:\n",
    "        \n",
    "        count+= 1       \n",
    "print(count)"
   ]
  },
  {
   "cell_type": "code",
   "execution_count": 24,
   "id": "0e74eea3",
   "metadata": {},
   "outputs": [],
   "source": [
    "# Focusing on the month of August where there seems to be the lowest dip\n",
    "Aug_2019=yr_2019[yr_2019.index.month == 8]\n",
    "# df for data science of August 2019\n",
    "ds_Aug = Aug_2019[(Aug_2019.program_name == 'data_science')]\n",
    "# df for web development of August 2019\n",
    "wd_Aug = Aug_2019[(Aug_2019.program_name == \"web_dev\")]"
   ]
  },
  {
   "cell_type": "code",
   "execution_count": 27,
   "id": "73524a92",
   "metadata": {},
   "outputs": [
    {
     "name": "stdout",
     "output_type": "stream",
     "text": [
      "0\n"
     ]
    }
   ],
   "source": [
    "# checking for cross-curriculum page endpoints for August: there are none\n",
    "ds_Aug_page = list(ds_Aug.end_page.unique())\n",
    "\n",
    "web_Aug_page = list(wd_Aug.end_page.unique())\n",
    "\n",
    "count = 0\n",
    "for x in ds_Aug_page:\n",
    "    if x in web_Aug_page:\n",
    "        count += 1\n",
    "        \n",
    "print(count)"
   ]
  },
  {
   "cell_type": "code",
   "execution_count": 28,
   "id": "e10b17d3",
   "metadata": {},
   "outputs": [],
   "source": [
    "# Focusing on the month of September where there seems to be the lowest dip\n",
    "Sep_2019=yr_2019[yr_2019.index.month == 8]\n",
    "# df for data science of August 2019\n",
    "ds_Sep = Sep_2019[(Sep_2019.program_name == 'data_science')]\n",
    "# df for web development of August 2019\n",
    "wd_Sep = Sep_2019[(Sep_2019.program_name == \"web_dev\")]"
   ]
  },
  {
   "cell_type": "code",
   "execution_count": 29,
   "id": "2f7542b4",
   "metadata": {},
   "outputs": [
    {
     "name": "stdout",
     "output_type": "stream",
     "text": [
      "0\n"
     ]
    }
   ],
   "source": [
    "# checking for cross-curriculum page endpoints for September: there are none\n",
    "ds_Sep_page = list(ds_Sep.end_page.unique())\n",
    "\n",
    "web_Sep_page = list(wd_Sep.end_page.unique())\n",
    "\n",
    "count = 0\n",
    "for x in ds_Sep_page:\n",
    "    if x in web_Sep_page:\n",
    "        count += 1\n",
    "        \n",
    "print(count)"
   ]
  },
  {
   "cell_type": "code",
   "execution_count": null,
   "id": "54e44351",
   "metadata": {},
   "outputs": [],
   "source": []
  }
 ],
 "metadata": {
  "kernelspec": {
   "display_name": "Python 3 (ipykernel)",
   "language": "python",
   "name": "python3"
  },
  "language_info": {
   "codemirror_mode": {
    "name": "ipython",
    "version": 3
   },
   "file_extension": ".py",
   "mimetype": "text/x-python",
   "name": "python",
   "nbconvert_exporter": "python",
   "pygments_lexer": "ipython3",
   "version": "3.9.12"
  }
 },
 "nbformat": 4,
 "nbformat_minor": 5
}
